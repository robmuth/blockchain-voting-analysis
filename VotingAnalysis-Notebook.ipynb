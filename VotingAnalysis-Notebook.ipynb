{
  "nbformat": 4,
  "nbformat_minor": 0,
  "metadata": {
    "colab": {
      "name": "On-chain Voting Analysis.ipynb",
      "provenance": [],
      "collapsed_sections": [],
      "toc_visible": true
    },
    "kernelspec": {
      "name": "python3",
      "display_name": "Python 3"
    }
  },
  "cells": [
    {
      "cell_type": "markdown",
      "metadata": {
        "id": "SptXzBI4l3c1"
      },
      "source": [
        "# Initialization\n",
        "\n",
        "This Jupyter Notebook provides the analysis results of our emperical analysis paper for on-chain voting smart contracts. A Google Cloud account is needed for executing the commands, however the results are available here.\n",
        "\n",
        "Imports:\n",
        "- Google Cloud service libraries for BigQuery and Google Drive\n",
        "- Pandas\n",
        "- Numpy"
      ]
    },
    {
      "cell_type": "code",
      "metadata": {
        "id": "K8ngXxsjhlEb",
        "colab": {
          "base_uri": "https://localhost:8080/",
          "height": 37
        },
        "outputId": "83061b24-4ef8-4272-ba0e-432f3e68e8e5"
      },
      "source": [
        "# Google\n",
        "from google.cloud import bigquery\n",
        "from google.colab import drive\n",
        "\n",
        "# Data\n",
        "import pandas as pd\n",
        "import numpy as np\n",
        "\n",
        "# Set locale for uniform thounsands-separator\n",
        "import locale\n",
        "locale.setlocale(locale.LC_ALL, 'en_US.UTF-8')"
      ],
      "execution_count": null,
      "outputs": [
        {
          "output_type": "execute_result",
          "data": {
            "application/vnd.google.colaboratory.intrinsic+json": {
              "type": "string"
            },
            "text/plain": [
              "'en_US.UTF-8'"
            ]
          },
          "metadata": {
            "tags": []
          },
          "execution_count": 1
        }
      ]
    },
    {
      "cell_type": "markdown",
      "metadata": {
        "id": "h82gavTFSQ-m"
      },
      "source": [
        "Request authentication tokens for BigQuery and Google Drive (Spread Sheet)."
      ]
    },
    {
      "cell_type": "code",
      "metadata": {
        "id": "kkpun2XYi3Vt"
      },
      "source": [
        "# Authenticate\n",
        "from google.colab import auth\n",
        "auth.authenticate_user()\n",
        "\n",
        "# Init BigQuery\n",
        "client = bigquery.Client(project='evotinggasanalysis')"
      ],
      "execution_count": null,
      "outputs": []
    },
    {
      "cell_type": "code",
      "metadata": {
        "id": "qmyNdZq8Spjv",
        "colab": {
          "base_uri": "https://localhost:8080/"
        },
        "outputId": "2275276a-8788-4ad3-a017-7dd42836b4c1"
      },
      "source": [
        "# Google Drive / Spread Sheet\n",
        "import gspread\n",
        "from oauth2client.client import GoogleCredentials\n",
        "gc = gspread.authorize(GoogleCredentials.get_application_default())\n",
        "drive.mount('/content/gdrive')"
      ],
      "execution_count": null,
      "outputs": [
        {
          "output_type": "stream",
          "text": [
            "Mounted at /content/gdrive\n"
          ],
          "name": "stdout"
        }
      ]
    },
    {
      "cell_type": "markdown",
      "metadata": {
        "id": "E-wA2V_6JKID"
      },
      "source": [
        "# Ethereum"
      ]
    },
    {
      "cell_type": "code",
      "metadata": {
        "id": "7DEGGHmGHORC"
      },
      "source": [
        "# Constants\n",
        "dataset = '20201027'\n",
        "maxBlock = '2020-10-30'"
      ],
      "execution_count": null,
      "outputs": []
    },
    {
      "cell_type": "markdown",
      "metadata": {
        "id": "lEGkcVzZJQgR"
      },
      "source": [
        "## Signatures"
      ]
    },
    {
      "cell_type": "code",
      "metadata": {
        "id": "URW0yIo8JcC7"
      },
      "source": [
        "votingSigns = pd.DataFrame(columns=['hash', 'signature', 'source', 'keyword'])"
      ],
      "execution_count": null,
      "outputs": []
    },
    {
      "cell_type": "markdown",
      "metadata": {
        "id": "M16V3t8eKOvs"
      },
      "source": [
        "### ERC-1202"
      ]
    },
    {
      "cell_type": "code",
      "metadata": {
        "id": "u9-slnZejRD7"
      },
      "source": [
        "# Source: https://github.com/ethereum/EIPs/blob/master/EIPS/eip-1202.md\n",
        "erc1202Signs = pd.read_json('[{\"hash\": \"0xb384abef\",\"is_erc1202\": true,\"signature\": \"vote(uint256,uint256)\"},{\"hash\": \"0x8719e8ac\",\"is_erc1202\": true,\"signature\": \"setStatus(uint256,bool)\"},{\"hash\": \"0x1e01a172\",\"is_erc1202\": true,\"signature\": \"issueDescription(uint256)\"},{\"hash\": \"0xc36fff2d\",\"is_erc1202\": true,\"signature\": \"availableOptions(uint256)\"},{\"hash\": \"0xea2bc862\",\"is_erc1202\": true,\"signature\": \"optionDescription(uint256,uint256)\"},{\"hash\": \"0x32ec991c\",\"is_erc1202\": true,\"signature\": \"ballotOf(uint256,address)\"},{\"hash\": \"0x8935ced5\",\"is_erc1202\": true,\"signature\": \"weightOf(uint256,address)\"},{\"hash\": \"0x5c622a0e\",\"is_erc1202\": true,\"signature\": \"getStatus(uint256)\"},{\"hash\": \"0x6e6a1dc3\",\"is_erc1202\": true,\"signature\": \"weightedVoteCountsOf(uint256,uint256)\"},{\"hash\": \"0xaff9e954\",\"is_erc1202\": true,\"signature\": \"topOptions(uint256,uint256)\"}]')\n",
        "erc1202Signs[\"source\"] = \"ERC-1202\" \n",
        "erc1202Signs.pop(\"is_erc1202\")\n",
        "votingSigns = votingSigns.append(erc1202Signs)"
      ],
      "execution_count": null,
      "outputs": []
    },
    {
      "cell_type": "markdown",
      "metadata": {
        "id": "7pvdUa9a9PfE"
      },
      "source": [
        "### DAO"
      ]
    },
    {
      "cell_type": "code",
      "metadata": {
        "id": "nIx31QNeDhgO"
      },
      "source": [
        "# Source: https://github.com/TheDAO/DAO-1.0/blob/master/DAO.sol\n",
        "# Signature calculator: https://piyolab.github.io/playground/ethereum/getEncodedFunctionSignature/\n",
        "thedaoSigns = pd.read_json('[{\"hash\": \"0x612e45a3\", \"signature\": \"newProposal(address,uint256,string,bytes,uint256,bool)\"},{\"hash\": \"0xeceb2945\", \"signature\": \"checkProposalCode(uint256,address,uint256,bytes)\"},{\"hash\": \"0xc9d27afe\", \"signature\": \"vote(uint256,bool)\"},{\"hash\": \"0x237e9492\", \"signature\": \"executeProposal(uint256,bytes)\"},{\"hash\": \"0x6837ff1e\", \"signature\": \"newContract(address)\"},{\"hash\": \"0x749f9889\", \"signature\": \"changeAllowedRecipients(address,bool)\"},{\"hash\": \"0xe33734fd\", \"signature\": \"changeProposalDeposit(uint256)\"},{\"hash\": \"0x78524b2e\", \"signature\": \"halveMinQuorum()\"},{\"hash\": \"0x8d7af473\", \"signature\": \"numberOfProposals()\"},{\"hash\": \"0x2632bf20\", \"signature\": \"unblockMe()\"}]')\n",
        "thedaoSigns[\"source\"] = \"The DAO\"\n",
        "votingSigns = votingSigns.append(thedaoSigns)"
      ],
      "execution_count": null,
      "outputs": []
    },
    {
      "cell_type": "markdown",
      "metadata": {
        "id": "cwJodVdMkXM2"
      },
      "source": [
        "### 4byte.directory"
      ]
    },
    {
      "cell_type": "code",
      "metadata": {
        "id": "qNxk_aHSKKG9",
        "colab": {
          "base_uri": "https://localhost:8080/"
        },
        "outputId": "83592c50-9a97-4357-860f-14092e46cc2e"
      },
      "source": [
        "keywords = ['voting', 'vote', 'ballot']\n",
        "\n",
        "for keyword in keywords:\n",
        "  nextUrl = 'https://www.4byte.directory/api/v1/signatures/?format=json&text_signature=' + keyword\n",
        "\n",
        "  readSigns = pd.DataFrame(columns=votingSigns.columns)\n",
        "\n",
        "  while type(nextUrl) is str:\n",
        "    print(\"Load url: \" + nextUrl)\n",
        "    readJson = pd.read_json(nextUrl)\n",
        "\n",
        "    nextUrl = readJson.loc[0]['next']\n",
        "\n",
        "    if readJson.loc[0]['count'] != np.NaN and readJson.loc[0]['count'] > 0:\n",
        "      data = {'signature': readJson['results'].map(lambda x: x['text_signature']),\n",
        "              'hash':      readJson['results'].map(lambda x: x['hex_signature']),\n",
        "              'source':    readJson['results'].map(lambda x: '4byte.directory' ),\n",
        "              'keyword':   readJson['results'].map(lambda x: keyword )}\n",
        "\n",
        "      rows = pd.DataFrame(data, columns=votingSigns.columns)\n",
        "      readSigns = readSigns.append(rows)\n",
        "\n",
        "  votingSigns = votingSigns.append(readSigns)\n"
      ],
      "execution_count": null,
      "outputs": [
        {
          "output_type": "stream",
          "text": [
            "Load url: https://www.4byte.directory/api/v1/signatures/?format=json&text_signature=voting\n",
            "Load url: https://www.4byte.directory/api/v1/signatures/?format=json&page=2&text_signature=voting\n",
            "Load url: https://www.4byte.directory/api/v1/signatures/?format=json&page=3&text_signature=voting\n",
            "Load url: https://www.4byte.directory/api/v1/signatures/?format=json&text_signature=vote\n",
            "Load url: https://www.4byte.directory/api/v1/signatures/?format=json&page=2&text_signature=vote\n",
            "Load url: https://www.4byte.directory/api/v1/signatures/?format=json&page=3&text_signature=vote\n",
            "Load url: https://www.4byte.directory/api/v1/signatures/?format=json&page=4&text_signature=vote\n",
            "Load url: https://www.4byte.directory/api/v1/signatures/?format=json&page=5&text_signature=vote\n",
            "Load url: https://www.4byte.directory/api/v1/signatures/?format=json&page=6&text_signature=vote\n",
            "Load url: https://www.4byte.directory/api/v1/signatures/?format=json&page=7&text_signature=vote\n",
            "Load url: https://www.4byte.directory/api/v1/signatures/?format=json&page=8&text_signature=vote\n",
            "Load url: https://www.4byte.directory/api/v1/signatures/?format=json&page=9&text_signature=vote\n",
            "Load url: https://www.4byte.directory/api/v1/signatures/?format=json&page=10&text_signature=vote\n",
            "Load url: https://www.4byte.directory/api/v1/signatures/?format=json&page=11&text_signature=vote\n",
            "Load url: https://www.4byte.directory/api/v1/signatures/?format=json&page=12&text_signature=vote\n",
            "Load url: https://www.4byte.directory/api/v1/signatures/?format=json&text_signature=ballot\n",
            "Load url: https://www.4byte.directory/api/v1/signatures/?format=json&page=2&text_signature=ballot\n"
          ],
          "name": "stdout"
        }
      ]
    },
    {
      "cell_type": "code",
      "metadata": {
        "id": "IzLiPVSXsyde",
        "colab": {
          "base_uri": "https://localhost:8080/"
        },
        "outputId": "a629d8aa-5a4f-43a7-d9fc-a63d36340e02"
      },
      "source": [
        "# Number of found signatures\n",
        "votingSigns.shape[0]"
      ],
      "execution_count": null,
      "outputs": [
        {
          "output_type": "execute_result",
          "data": {
            "text/plain": [
              "1487"
            ]
          },
          "metadata": {
            "tags": []
          },
          "execution_count": 10
        }
      ]
    },
    {
      "cell_type": "code",
      "metadata": {
        "id": "9JzlCdeOqPPD",
        "colab": {
          "base_uri": "https://localhost:8080/",
          "height": 419
        },
        "outputId": "ff749994-0b04-4e0a-ec63-dc94b595d9dd"
      },
      "source": [
        "votingSigns.drop_duplicates(\"signature\", inplace=True)\n",
        "votingSigns.reset_index(drop=True, inplace=True)\n",
        "#votingSigns.sort_index(inplace=True)\n",
        "votingSigns"
      ],
      "execution_count": null,
      "outputs": [
        {
          "output_type": "execute_result",
          "data": {
            "text/html": [
              "<div>\n",
              "<style scoped>\n",
              "    .dataframe tbody tr th:only-of-type {\n",
              "        vertical-align: middle;\n",
              "    }\n",
              "\n",
              "    .dataframe tbody tr th {\n",
              "        vertical-align: top;\n",
              "    }\n",
              "\n",
              "    .dataframe thead th {\n",
              "        text-align: right;\n",
              "    }\n",
              "</style>\n",
              "<table border=\"1\" class=\"dataframe\">\n",
              "  <thead>\n",
              "    <tr style=\"text-align: right;\">\n",
              "      <th></th>\n",
              "      <th>hash</th>\n",
              "      <th>signature</th>\n",
              "      <th>source</th>\n",
              "      <th>keyword</th>\n",
              "    </tr>\n",
              "  </thead>\n",
              "  <tbody>\n",
              "    <tr>\n",
              "      <th>0</th>\n",
              "      <td>0xb384abef</td>\n",
              "      <td>vote(uint256,uint256)</td>\n",
              "      <td>ERC-1202</td>\n",
              "      <td>NaN</td>\n",
              "    </tr>\n",
              "    <tr>\n",
              "      <th>1</th>\n",
              "      <td>0x8719e8ac</td>\n",
              "      <td>setStatus(uint256,bool)</td>\n",
              "      <td>ERC-1202</td>\n",
              "      <td>NaN</td>\n",
              "    </tr>\n",
              "    <tr>\n",
              "      <th>2</th>\n",
              "      <td>0x1e01a172</td>\n",
              "      <td>issueDescription(uint256)</td>\n",
              "      <td>ERC-1202</td>\n",
              "      <td>NaN</td>\n",
              "    </tr>\n",
              "    <tr>\n",
              "      <th>3</th>\n",
              "      <td>0xc36fff2d</td>\n",
              "      <td>availableOptions(uint256)</td>\n",
              "      <td>ERC-1202</td>\n",
              "      <td>NaN</td>\n",
              "    </tr>\n",
              "    <tr>\n",
              "      <th>4</th>\n",
              "      <td>0xea2bc862</td>\n",
              "      <td>optionDescription(uint256,uint256)</td>\n",
              "      <td>ERC-1202</td>\n",
              "      <td>NaN</td>\n",
              "    </tr>\n",
              "    <tr>\n",
              "      <th>...</th>\n",
              "      <td>...</td>\n",
              "      <td>...</td>\n",
              "      <td>...</td>\n",
              "      <td>...</td>\n",
              "    </tr>\n",
              "    <tr>\n",
              "      <th>1467</th>\n",
              "      <td>0xf2a5630a</td>\n",
              "      <td>BallotUp()</td>\n",
              "      <td>4byte.directory</td>\n",
              "      <td>ballot</td>\n",
              "    </tr>\n",
              "    <tr>\n",
              "      <th>1468</th>\n",
              "      <td>0x1cff3e09</td>\n",
              "      <td>testCreateBallotContract()</td>\n",
              "      <td>4byte.directory</td>\n",
              "      <td>ballot</td>\n",
              "    </tr>\n",
              "    <tr>\n",
              "      <th>1469</th>\n",
              "      <td>0xb655f822</td>\n",
              "      <td>Ballot()</td>\n",
              "      <td>4byte.directory</td>\n",
              "      <td>ballot</td>\n",
              "    </tr>\n",
              "    <tr>\n",
              "      <th>1470</th>\n",
              "      <td>0x940f851c</td>\n",
              "      <td>Ballot(uint8)</td>\n",
              "      <td>4byte.directory</td>\n",
              "      <td>ballot</td>\n",
              "    </tr>\n",
              "    <tr>\n",
              "      <th>1471</th>\n",
              "      <td>0x61a00f6d</td>\n",
              "      <td>Ballot(bytes32[])</td>\n",
              "      <td>4byte.directory</td>\n",
              "      <td>ballot</td>\n",
              "    </tr>\n",
              "  </tbody>\n",
              "</table>\n",
              "<p>1472 rows × 4 columns</p>\n",
              "</div>"
            ],
            "text/plain": [
              "            hash                           signature           source keyword\n",
              "0     0xb384abef               vote(uint256,uint256)         ERC-1202     NaN\n",
              "1     0x8719e8ac             setStatus(uint256,bool)         ERC-1202     NaN\n",
              "2     0x1e01a172           issueDescription(uint256)         ERC-1202     NaN\n",
              "3     0xc36fff2d           availableOptions(uint256)         ERC-1202     NaN\n",
              "4     0xea2bc862  optionDescription(uint256,uint256)         ERC-1202     NaN\n",
              "...          ...                                 ...              ...     ...\n",
              "1467  0xf2a5630a                          BallotUp()  4byte.directory  ballot\n",
              "1468  0x1cff3e09          testCreateBallotContract()  4byte.directory  ballot\n",
              "1469  0xb655f822                            Ballot()  4byte.directory  ballot\n",
              "1470  0x940f851c                       Ballot(uint8)  4byte.directory  ballot\n",
              "1471  0x61a00f6d                   Ballot(bytes32[])  4byte.directory  ballot\n",
              "\n",
              "[1472 rows x 4 columns]"
            ]
          },
          "metadata": {
            "tags": []
          },
          "execution_count": 11
        }
      ]
    },
    {
      "cell_type": "code",
      "metadata": {
        "id": "TzWnb7Yofc8r",
        "colab": {
          "base_uri": "https://localhost:8080/",
          "height": 80
        },
        "outputId": "6ef660b2-5e22-4803-bfda-7b6bfa441cc1"
      },
      "source": [
        "votingSigns[votingSigns.signature == 'vote(string)']"
      ],
      "execution_count": null,
      "outputs": [
        {
          "output_type": "execute_result",
          "data": {
            "text/html": [
              "<div>\n",
              "<style scoped>\n",
              "    .dataframe tbody tr th:only-of-type {\n",
              "        vertical-align: middle;\n",
              "    }\n",
              "\n",
              "    .dataframe tbody tr th {\n",
              "        vertical-align: top;\n",
              "    }\n",
              "\n",
              "    .dataframe thead th {\n",
              "        text-align: right;\n",
              "    }\n",
              "</style>\n",
              "<table border=\"1\" class=\"dataframe\">\n",
              "  <thead>\n",
              "    <tr style=\"text-align: right;\">\n",
              "      <th></th>\n",
              "      <th>hash</th>\n",
              "      <th>signature</th>\n",
              "      <th>source</th>\n",
              "      <th>keyword</th>\n",
              "    </tr>\n",
              "  </thead>\n",
              "  <tbody>\n",
              "    <tr>\n",
              "      <th>1338</th>\n",
              "      <td>0xfc36e15b</td>\n",
              "      <td>vote(string)</td>\n",
              "      <td>4byte.directory</td>\n",
              "      <td>vote</td>\n",
              "    </tr>\n",
              "  </tbody>\n",
              "</table>\n",
              "</div>"
            ],
            "text/plain": [
              "            hash     signature           source keyword\n",
              "1338  0xfc36e15b  vote(string)  4byte.directory    vote"
            ]
          },
          "metadata": {
            "tags": []
          },
          "execution_count": 12
        }
      ]
    },
    {
      "cell_type": "markdown",
      "metadata": {
        "id": "m5AsFvQ3iQkk"
      },
      "source": [
        "## Insert Signature Hashses to BigQuery"
      ]
    },
    {
      "cell_type": "code",
      "metadata": {
        "id": "x0WfALDVisHD",
        "colab": {
          "base_uri": "https://localhost:8080/"
        },
        "outputId": "395685b7-bf8a-4f59-b741-1d48c8f349a8"
      },
      "source": [
        "# Clear table\n",
        "job = client.query('DELETE FROM `evotinggasanalysis.{0}.functionSighashes` WHERE 1=1'.format(dataset))\n",
        "job.result()"
      ],
      "execution_count": null,
      "outputs": [
        {
          "output_type": "execute_result",
          "data": {
            "text/plain": [
              "<google.cloud.bigquery.table._EmptyRowIterator at 0x7f485f836e48>"
            ]
          },
          "metadata": {
            "tags": []
          },
          "execution_count": 13
        }
      ]
    },
    {
      "cell_type": "code",
      "metadata": {
        "id": "VjITsq_Vk4Ne",
        "colab": {
          "base_uri": "https://localhost:8080/"
        },
        "outputId": "9ef103c3-0058-4e40-fbed-53427b4c0c39"
      },
      "source": [
        "# Inserts\n",
        "chunkMod = 3 # split into 10 SQL insert statements\n",
        "for i in range(0, chunkMod):\n",
        "  chunk = pd.DataFrame(votingSigns[votingSigns.index % chunkMod == i])\n",
        "\n",
        "  chunk[\"is_erc1202\"] = chunk['source'].map(lambda x: 'true' if x == 'ERC-1202' else 'false')\n",
        "  chunk[\"sqlValue\"] = pd.Series('(\\'' + chunk['hash'] + '\\', \\'' + chunk['signature'] + '\\', ' + chunk[\"is_erc1202\"] + ')', dtype=\"string\")\n",
        "\n",
        "  query = 'INSERT INTO `evotinggasanalysis.{0}.functionSighashes` (`hash`, `signature`, `is_erc1202`) VALUES '.format(dataset) + ','.join(chunk[\"sqlValue\"].to_list())\n",
        "\n",
        "  job = client.query(query)\n",
        "  print(job.result())"
      ],
      "execution_count": null,
      "outputs": [
        {
          "output_type": "stream",
          "text": [
            "<google.cloud.bigquery.table._EmptyRowIterator object at 0x7f485e5ade48>\n",
            "<google.cloud.bigquery.table._EmptyRowIterator object at 0x7f485e5677f0>\n",
            "<google.cloud.bigquery.table._EmptyRowIterator object at 0x7f485e3a1fd0>\n"
          ],
          "name": "stdout"
        }
      ]
    },
    {
      "cell_type": "markdown",
      "metadata": {
        "id": "4HW7VeS9_Spl"
      },
      "source": [
        "## Find Voting Contracts"
      ]
    },
    {
      "cell_type": "code",
      "metadata": {
        "id": "xTFX4V8kr2ka",
        "colab": {
          "base_uri": "https://localhost:8080/"
        },
        "outputId": "995fd57e-33ea-4c0a-cf20-3972f676e4d9"
      },
      "source": [
        "# Clear Table\n",
        "job = client.query('DELETE FROM `evotinggasanalysis.{0}.votingContracts` WHERE 1=1'.format(dataset))\n",
        "job.result()"
      ],
      "execution_count": null,
      "outputs": [
        {
          "output_type": "execute_result",
          "data": {
            "text/plain": [
              "<google.cloud.bigquery.table._EmptyRowIterator at 0x7f485e548e48>"
            ]
          },
          "metadata": {
            "tags": []
          },
          "execution_count": 15
        }
      ]
    },
    {
      "cell_type": "code",
      "metadata": {
        "id": "mYSwb5zkkLr4",
        "colab": {
          "base_uri": "https://localhost:8080/"
        },
        "outputId": "394396ec-85ae-44f5-c007-c9dfcd8d2215"
      },
      "source": [
        "# ERC-1201\n",
        "query = 'INSERT INTO `evotinggasanalysis.{0}.votingContracts` SELECT address, function_sighashes, is_erc20, is_erc721, {2}, block_timestamp, block_number FROM `bigquery-public-data.crypto_ethereum.contracts` WHERE 1=1 AND DATE(block_timestamp) <= \\'{1}\\' AND EXISTS(SELECT 1 FROM UNNEST(function_sighashes) intersec WHERE intersec IN UNNEST(( SELECT ARRAY_AGG(`hash`) FROM evotinggasanalysis.{0}.functionSighashes WHERE is_erc1202 = {2} )))'\n",
        "queryErc1202 = query.format(dataset, maxBlock, 'FALSE')\n",
        "query4bdir = query.format(dataset, maxBlock, 'TRUE')\n",
        "\n",
        "job = client.query(queryErc1202)\n",
        "print(job.result())\n",
        "job = client.query(query4bdir)\n",
        "print(job.result())"
      ],
      "execution_count": null,
      "outputs": [
        {
          "output_type": "stream",
          "text": [
            "<google.cloud.bigquery.table._EmptyRowIterator object at 0x7f485e2f4cc0>\n",
            "<google.cloud.bigquery.table._EmptyRowIterator object at 0x7f485e2f4cc0>\n"
          ],
          "name": "stdout"
        }
      ]
    },
    {
      "cell_type": "markdown",
      "metadata": {
        "id": "2e1W5l6cG5Js"
      },
      "source": [
        "## Cache Voting Contract Methods Count"
      ]
    },
    {
      "cell_type": "code",
      "metadata": {
        "id": "9XzLjvm0Cq90",
        "colab": {
          "base_uri": "https://localhost:8080/"
        },
        "outputId": "73e4cad1-cb9a-4d78-9835-d6dddc8adbaa"
      },
      "source": [
        "# Clear Table\n",
        "job = client.query('DELETE FROM evotinggasanalysis.{0}.votingContractMethods WHERE 1=1;'.format(dataset))\n",
        "job.result()"
      ],
      "execution_count": null,
      "outputs": [
        {
          "output_type": "execute_result",
          "data": {
            "text/plain": [
              "<google.cloud.bigquery.table._EmptyRowIterator at 0x7f485e306f98>"
            ]
          },
          "metadata": {
            "tags": []
          },
          "execution_count": 17
        }
      ]
    },
    {
      "cell_type": "code",
      "metadata": {
        "id": "PflEaEYZHoYk",
        "colab": {
          "base_uri": "https://localhost:8080/"
        },
        "outputId": "d304b5ed-babc-489b-8f86-8ed8267aac5f"
      },
      "source": [
        "job = client.query('INSERT INTO evotinggasanalysis.{0}.votingContractMethods SELECT votingContracts.address, COUNT(functionSighashes.HASH) AS voting_methods FROM evotinggasanalysis.{0}.functionSighashes, evotinggasanalysis.{0}.votingContracts votingContracts WHERE `hash` IN ( ( SELECT hashes FROM evotinggasanalysis.{0}.votingContracts innerVotingContracts, UNNEST(innerVotingContracts.function_sighashes) hashes WHERE address = votingContracts.address )) GROUP BY votingContracts.address'.format(dataset))\n",
        "job.result()"
      ],
      "execution_count": null,
      "outputs": [
        {
          "output_type": "execute_result",
          "data": {
            "text/plain": [
              "<google.cloud.bigquery.table._EmptyRowIterator at 0x7f485e2fa400>"
            ]
          },
          "metadata": {
            "tags": []
          },
          "execution_count": 18
        }
      ]
    },
    {
      "cell_type": "markdown",
      "metadata": {
        "id": "zQEILPr3XUsY"
      },
      "source": [
        "## Cache Voting-related Transactions"
      ]
    },
    {
      "cell_type": "code",
      "metadata": {
        "id": "8vMndc1LXVLo",
        "colab": {
          "base_uri": "https://localhost:8080/"
        },
        "outputId": "d5313619-e508-4493-f341-54e249fb2e5c"
      },
      "source": [
        "# Clear Table\n",
        "job = client.query('DELETE FROM evotinggasanalysis.{0}.votingTransactions WHERE 1=1;'.format(dataset))\n",
        "job.result()"
      ],
      "execution_count": null,
      "outputs": [
        {
          "output_type": "execute_result",
          "data": {
            "text/plain": [
              "<google.cloud.bigquery.table._EmptyRowIterator at 0x7f485e3012b0>"
            ]
          },
          "metadata": {
            "tags": []
          },
          "execution_count": 19
        }
      ]
    },
    {
      "cell_type": "code",
      "metadata": {
        "id": "1i9N-reyXsVU",
        "colab": {
          "base_uri": "https://localhost:8080/"
        },
        "outputId": "d8c12af7-0e6e-4fff-f1e2-c47824674b4b"
      },
      "source": [
        "job = client.query('INSERT INTO `evotinggasanalysis.{0}.votingTransactions` SELECT `hash`, from_address, to_address, gas, gas_price, value, receipt_gas_used, block_number, block_timestamp, substr(input, 0, 10) as function_sighash, FROM `bigquery-public-data.crypto_ethereum.transactions` WHERE 1=1 AND receipt_contract_address IS NULL AND receipt_status = 1 AND to_address in (SELECT address FROM `evotinggasanalysis.{0}.votingContracts`) AND substr(input, 0, 10) IN (SELECT `hash` FROM `evotinggasanalysis.{0}.functionSighashes`)'.format(dataset))\n",
        "job.result()"
      ],
      "execution_count": null,
      "outputs": [
        {
          "output_type": "execute_result",
          "data": {
            "text/plain": [
              "<google.cloud.bigquery.table._EmptyRowIterator at 0x7f485e3054e0>"
            ]
          },
          "metadata": {
            "tags": []
          },
          "execution_count": 20
        }
      ]
    },
    {
      "cell_type": "markdown",
      "metadata": {
        "id": "tPVzrOJ0FVh5"
      },
      "source": [
        "## Find DAO Contracts"
      ]
    },
    {
      "cell_type": "code",
      "metadata": {
        "id": "ldjuGPDEFUuL",
        "colab": {
          "base_uri": "https://localhost:8080/",
          "height": 105
        },
        "outputId": "be87e71d-3a18-4cf2-afe5-7a0e768826f3"
      },
      "source": [
        "daoHashes = votingSigns[votingSigns[\"source\"] == \"The DAO\"].hash\n",
        "daoHashesWHERE = ' AND '.join(list(daoHashes.apply(lambda x: '\\'' + x + '\\' IN UNNEST(function_sighashes)').astype('string').values))\n",
        "sql = 'SELECT COUNT(*) FROM `bigquery-public-data.crypto_ethereum.contracts` WHERE ' + daoHashesWHERE\n",
        "sql"
      ],
      "execution_count": null,
      "outputs": [
        {
          "output_type": "execute_result",
          "data": {
            "application/vnd.google.colaboratory.intrinsic+json": {
              "type": "string"
            },
            "text/plain": [
              "\"SELECT COUNT(*) FROM `bigquery-public-data.crypto_ethereum.contracts` WHERE '0x612e45a3' IN UNNEST(function_sighashes) AND '0xeceb2945' IN UNNEST(function_sighashes) AND '0xc9d27afe' IN UNNEST(function_sighashes) AND '0x237e9492' IN UNNEST(function_sighashes) AND '0x6837ff1e' IN UNNEST(function_sighashes) AND '0x749f9889' IN UNNEST(function_sighashes) AND '0xe33734fd' IN UNNEST(function_sighashes) AND '0x78524b2e' IN UNNEST(function_sighashes) AND '0x8d7af473' IN UNNEST(function_sighashes) AND '0x2632bf20' IN UNNEST(function_sighashes)\""
            ]
          },
          "metadata": {
            "tags": []
          },
          "execution_count": 21
        }
      ]
    },
    {
      "cell_type": "markdown",
      "metadata": {
        "id": "YSLlPY65V3AR"
      },
      "source": [
        "# Dash\n",
        "Download proposals from dashcentral.org"
      ]
    },
    {
      "cell_type": "markdown",
      "metadata": {
        "id": "JlAI4puiV8vy"
      },
      "source": [
        "## Proposals"
      ]
    },
    {
      "cell_type": "code",
      "metadata": {
        "id": "MxjAoglRKcm_",
        "colab": {
          "base_uri": "https://localhost:8080/"
        },
        "outputId": "bfc492e0-8ff6-47aa-ebd5-3173914afd71"
      },
      "source": [
        "downloaded_proposals = None\n",
        "\n",
        "page = 1\n",
        "while page > 0:\n",
        "  downloaded_json = pd.read_json(\"https://www.dashcentral.org/api/v1/budgethistory?pageid=\" + str(page))\n",
        "  \n",
        "  if downloaded_json.proposals.size > 0:\n",
        "    if downloaded_proposals is None:\n",
        "      downloaded_proposals = downloaded_json.proposals\n",
        "    else:\n",
        "      downloaded_proposals = downloaded_proposals.append(downloaded_json.proposals)\n",
        "    \n",
        "    page += 1\n",
        "  else:\n",
        "    page = 0 # No more proposals available\n",
        "\n",
        "downloaded_proposals = downloaded_proposals.reset_index()\n",
        "downloaded_proposals.pop(\"index\")\n",
        "downloaded_proposals = downloaded_proposals.rename(columns={\"proposals\": \"json\"})\n",
        "print(\"Downloaded proposals: \", downloaded_proposals.size)"
      ],
      "execution_count": null,
      "outputs": [
        {
          "output_type": "stream",
          "text": [
            "Downloaded proposals:  580\n"
          ],
          "name": "stdout"
        }
      ]
    },
    {
      "cell_type": "code",
      "metadata": {
        "id": "AgtSn7jxnOtD",
        "colab": {
          "base_uri": "https://localhost:8080/",
          "height": 394
        },
        "outputId": "e1a74804-b854-474f-edfc-91d50f44f49f"
      },
      "source": [
        "# Format\n",
        "proposals = pd.DataFrame(downloaded_proposals)\n",
        "proposals['hash'] = proposals['json'].map(lambda x: x['hash'])\n",
        "proposals['add'] = proposals['json'].map(lambda x: pd.to_datetime(x['date_added']))\n",
        "proposals['end'] = proposals['json'].map(lambda x: pd.to_datetime(x['voting_deadline']))\n",
        "proposals['will_be_funded'] = proposals['json'].map(lambda x: x['will_be_funded'])\n",
        "proposals['yes'] = proposals['json'].map(lambda x: x['yes'])\n",
        "proposals['no'] = proposals['json'].map(lambda x: x['no'])\n",
        "proposals['abstain'] = proposals['json'].map(lambda x: x['abstain'])\n",
        "proposals['votes'] = proposals['yes'] + proposals['no'] + proposals['abstain']\n",
        "proposals['fund'] = proposals['json'].map(lambda x: x['monthly_amount'])\n",
        "proposals['year'] = proposals['end'].map(lambda x: x.year)\n",
        "proposals.head()"
      ],
      "execution_count": null,
      "outputs": [
        {
          "output_type": "execute_result",
          "data": {
            "text/html": [
              "<div>\n",
              "<style scoped>\n",
              "    .dataframe tbody tr th:only-of-type {\n",
              "        vertical-align: middle;\n",
              "    }\n",
              "\n",
              "    .dataframe tbody tr th {\n",
              "        vertical-align: top;\n",
              "    }\n",
              "\n",
              "    .dataframe thead th {\n",
              "        text-align: right;\n",
              "    }\n",
              "</style>\n",
              "<table border=\"1\" class=\"dataframe\">\n",
              "  <thead>\n",
              "    <tr style=\"text-align: right;\">\n",
              "      <th></th>\n",
              "      <th>json</th>\n",
              "      <th>hash</th>\n",
              "      <th>add</th>\n",
              "      <th>end</th>\n",
              "      <th>will_be_funded</th>\n",
              "      <th>yes</th>\n",
              "      <th>no</th>\n",
              "      <th>abstain</th>\n",
              "      <th>votes</th>\n",
              "      <th>fund</th>\n",
              "      <th>year</th>\n",
              "    </tr>\n",
              "  </thead>\n",
              "  <tbody>\n",
              "    <tr>\n",
              "      <th>0</th>\n",
              "      <td>{'hash': 'f9b0d75a3f7ba06e230104fd222d09dc43d1...</td>\n",
              "      <td>f9b0d75a3f7ba06e230104fd222d09dc43d184c0bf3b63...</td>\n",
              "      <td>2020-11-03 16:10:01</td>\n",
              "      <td>2020-11-25 12:07:21</td>\n",
              "      <td>True</td>\n",
              "      <td>750</td>\n",
              "      <td>167</td>\n",
              "      <td>1</td>\n",
              "      <td>918</td>\n",
              "      <td>5.0</td>\n",
              "      <td>2020</td>\n",
              "    </tr>\n",
              "    <tr>\n",
              "      <th>1</th>\n",
              "      <td>{'hash': 'd9cb8264e15b5e76bedae20ee5734316578e...</td>\n",
              "      <td>d9cb8264e15b5e76bedae20ee5734316578ebce1f57bd6...</td>\n",
              "      <td>2020-10-07 20:00:01</td>\n",
              "      <td>2020-10-26 07:28:49</td>\n",
              "      <td>True</td>\n",
              "      <td>794</td>\n",
              "      <td>4</td>\n",
              "      <td>19</td>\n",
              "      <td>817</td>\n",
              "      <td>99.0</td>\n",
              "      <td>2020</td>\n",
              "    </tr>\n",
              "    <tr>\n",
              "      <th>2</th>\n",
              "      <td>{'hash': '642ec4b8eb15a4ce16e37977f38f46656e2a...</td>\n",
              "      <td>642ec4b8eb15a4ce16e37977f38f46656e2a91c62ec96b...</td>\n",
              "      <td>2020-09-13 06:35:01</td>\n",
              "      <td>2020-09-26 03:50:17</td>\n",
              "      <td>True</td>\n",
              "      <td>948</td>\n",
              "      <td>67</td>\n",
              "      <td>8</td>\n",
              "      <td>1023</td>\n",
              "      <td>266.0</td>\n",
              "      <td>2020</td>\n",
              "    </tr>\n",
              "    <tr>\n",
              "      <th>3</th>\n",
              "      <td>{'hash': 'cfb8cf8f6441696b00ff18a01f4da89c755a...</td>\n",
              "      <td>cfb8cf8f6441696b00ff18a01f4da89c755a81b34dbb22...</td>\n",
              "      <td>2020-09-13 05:25:01</td>\n",
              "      <td>2020-09-26 03:50:17</td>\n",
              "      <td>True</td>\n",
              "      <td>986</td>\n",
              "      <td>36</td>\n",
              "      <td>0</td>\n",
              "      <td>1022</td>\n",
              "      <td>266.0</td>\n",
              "      <td>2020</td>\n",
              "    </tr>\n",
              "    <tr>\n",
              "      <th>4</th>\n",
              "      <td>{'hash': 'f65439a24e5019e6c861e24d226e1f97dbfb...</td>\n",
              "      <td>f65439a24e5019e6c861e24d226e1f97dbfb0165577ef0...</td>\n",
              "      <td>2020-08-17 14:00:02</td>\n",
              "      <td>2020-08-26 23:11:45</td>\n",
              "      <td>True</td>\n",
              "      <td>1062</td>\n",
              "      <td>2</td>\n",
              "      <td>2</td>\n",
              "      <td>1066</td>\n",
              "      <td>232.5</td>\n",
              "      <td>2020</td>\n",
              "    </tr>\n",
              "  </tbody>\n",
              "</table>\n",
              "</div>"
            ],
            "text/plain": [
              "                                                json  ...  year\n",
              "0  {'hash': 'f9b0d75a3f7ba06e230104fd222d09dc43d1...  ...  2020\n",
              "1  {'hash': 'd9cb8264e15b5e76bedae20ee5734316578e...  ...  2020\n",
              "2  {'hash': '642ec4b8eb15a4ce16e37977f38f46656e2a...  ...  2020\n",
              "3  {'hash': 'cfb8cf8f6441696b00ff18a01f4da89c755a...  ...  2020\n",
              "4  {'hash': 'f65439a24e5019e6c861e24d226e1f97dbfb...  ...  2020\n",
              "\n",
              "[5 rows x 11 columns]"
            ]
          },
          "metadata": {
            "tags": []
          },
          "execution_count": 23
        }
      ]
    },
    {
      "cell_type": "code",
      "metadata": {
        "colab": {
          "base_uri": "https://localhost:8080/",
          "height": 779
        },
        "id": "iQ_NOL3dhxzW",
        "outputId": "2368c04f-c08d-4e96-d5e2-4cae5f400528"
      },
      "source": [
        "proposals.sort_values(\"add\")"
      ],
      "execution_count": null,
      "outputs": [
        {
          "output_type": "execute_result",
          "data": {
            "text/html": [
              "<div>\n",
              "<style scoped>\n",
              "    .dataframe tbody tr th:only-of-type {\n",
              "        vertical-align: middle;\n",
              "    }\n",
              "\n",
              "    .dataframe tbody tr th {\n",
              "        vertical-align: top;\n",
              "    }\n",
              "\n",
              "    .dataframe thead th {\n",
              "        text-align: right;\n",
              "    }\n",
              "</style>\n",
              "<table border=\"1\" class=\"dataframe\">\n",
              "  <thead>\n",
              "    <tr style=\"text-align: right;\">\n",
              "      <th></th>\n",
              "      <th>json</th>\n",
              "      <th>hash</th>\n",
              "      <th>add</th>\n",
              "      <th>end</th>\n",
              "      <th>will_be_funded</th>\n",
              "      <th>yes</th>\n",
              "      <th>no</th>\n",
              "      <th>abstain</th>\n",
              "      <th>votes</th>\n",
              "      <th>fund</th>\n",
              "      <th>year</th>\n",
              "    </tr>\n",
              "  </thead>\n",
              "  <tbody>\n",
              "    <tr>\n",
              "      <th>579</th>\n",
              "      <td>{'hash': 'eac6392cd0d63e4b2ebd3c60da2d3e13137c...</td>\n",
              "      <td>eac6392cd0d63e4b2ebd3c60da2d3e13137c892cd4cd1a...</td>\n",
              "      <td>2015-08-27 09:43:10</td>\n",
              "      <td>2015-10-11 13:18:22</td>\n",
              "      <td>True</td>\n",
              "      <td>1531</td>\n",
              "      <td>112</td>\n",
              "      <td>0</td>\n",
              "      <td>1643</td>\n",
              "      <td>1176.000000</td>\n",
              "      <td>2015</td>\n",
              "    </tr>\n",
              "    <tr>\n",
              "      <th>578</th>\n",
              "      <td>{'hash': 'cbafad18687045bb72fae611078fac09c3ec...</td>\n",
              "      <td>cbafad18687045bb72fae611078fac09c3ec09c8379e35...</td>\n",
              "      <td>2015-08-27 09:43:10</td>\n",
              "      <td>2015-10-11 13:18:22</td>\n",
              "      <td>False</td>\n",
              "      <td>888</td>\n",
              "      <td>1246</td>\n",
              "      <td>0</td>\n",
              "      <td>2134</td>\n",
              "      <td>2156.000000</td>\n",
              "      <td>2015</td>\n",
              "    </tr>\n",
              "    <tr>\n",
              "      <th>577</th>\n",
              "      <td>{'hash': '428438998eeb3234b232a3609d2e0f112204...</td>\n",
              "      <td>428438998eeb3234b232a3609d2e0f1122049241e5ecad...</td>\n",
              "      <td>2015-08-27 09:43:10</td>\n",
              "      <td>2015-10-11 13:18:22</td>\n",
              "      <td>True</td>\n",
              "      <td>1434</td>\n",
              "      <td>23</td>\n",
              "      <td>0</td>\n",
              "      <td>1457</td>\n",
              "      <td>2529.000000</td>\n",
              "      <td>2015</td>\n",
              "    </tr>\n",
              "    <tr>\n",
              "      <th>576</th>\n",
              "      <td>{'hash': 'a64c67c6d3cc6588fe8fe3c20c2ac1033296...</td>\n",
              "      <td>a64c67c6d3cc6588fe8fe3c20c2ac1033296db9bf6eb2e...</td>\n",
              "      <td>2015-09-19 18:19:06</td>\n",
              "      <td>2015-11-10 16:56:54</td>\n",
              "      <td>True</td>\n",
              "      <td>864</td>\n",
              "      <td>75</td>\n",
              "      <td>0</td>\n",
              "      <td>939</td>\n",
              "      <td>257.681661</td>\n",
              "      <td>2015</td>\n",
              "    </tr>\n",
              "    <tr>\n",
              "      <th>574</th>\n",
              "      <td>{'hash': '8387cdff019c2ebed75b33444ce5bcb27ddd...</td>\n",
              "      <td>8387cdff019c2ebed75b33444ce5bcb27ddd8f6e56c00e...</td>\n",
              "      <td>2015-09-23 08:53:40</td>\n",
              "      <td>2015-11-10 16:56:54</td>\n",
              "      <td>True</td>\n",
              "      <td>1106</td>\n",
              "      <td>26</td>\n",
              "      <td>0</td>\n",
              "      <td>1132</td>\n",
              "      <td>2024.000000</td>\n",
              "      <td>2015</td>\n",
              "    </tr>\n",
              "    <tr>\n",
              "      <th>...</th>\n",
              "      <td>...</td>\n",
              "      <td>...</td>\n",
              "      <td>...</td>\n",
              "      <td>...</td>\n",
              "      <td>...</td>\n",
              "      <td>...</td>\n",
              "      <td>...</td>\n",
              "      <td>...</td>\n",
              "      <td>...</td>\n",
              "      <td>...</td>\n",
              "      <td>...</td>\n",
              "    </tr>\n",
              "    <tr>\n",
              "      <th>4</th>\n",
              "      <td>{'hash': 'f65439a24e5019e6c861e24d226e1f97dbfb...</td>\n",
              "      <td>f65439a24e5019e6c861e24d226e1f97dbfb0165577ef0...</td>\n",
              "      <td>2020-08-17 14:00:02</td>\n",
              "      <td>2020-08-26 23:11:45</td>\n",
              "      <td>True</td>\n",
              "      <td>1062</td>\n",
              "      <td>2</td>\n",
              "      <td>2</td>\n",
              "      <td>1066</td>\n",
              "      <td>232.500000</td>\n",
              "      <td>2020</td>\n",
              "    </tr>\n",
              "    <tr>\n",
              "      <th>3</th>\n",
              "      <td>{'hash': 'cfb8cf8f6441696b00ff18a01f4da89c755a...</td>\n",
              "      <td>cfb8cf8f6441696b00ff18a01f4da89c755a81b34dbb22...</td>\n",
              "      <td>2020-09-13 05:25:01</td>\n",
              "      <td>2020-09-26 03:50:17</td>\n",
              "      <td>True</td>\n",
              "      <td>986</td>\n",
              "      <td>36</td>\n",
              "      <td>0</td>\n",
              "      <td>1022</td>\n",
              "      <td>266.000000</td>\n",
              "      <td>2020</td>\n",
              "    </tr>\n",
              "    <tr>\n",
              "      <th>2</th>\n",
              "      <td>{'hash': '642ec4b8eb15a4ce16e37977f38f46656e2a...</td>\n",
              "      <td>642ec4b8eb15a4ce16e37977f38f46656e2a91c62ec96b...</td>\n",
              "      <td>2020-09-13 06:35:01</td>\n",
              "      <td>2020-09-26 03:50:17</td>\n",
              "      <td>True</td>\n",
              "      <td>948</td>\n",
              "      <td>67</td>\n",
              "      <td>8</td>\n",
              "      <td>1023</td>\n",
              "      <td>266.000000</td>\n",
              "      <td>2020</td>\n",
              "    </tr>\n",
              "    <tr>\n",
              "      <th>1</th>\n",
              "      <td>{'hash': 'd9cb8264e15b5e76bedae20ee5734316578e...</td>\n",
              "      <td>d9cb8264e15b5e76bedae20ee5734316578ebce1f57bd6...</td>\n",
              "      <td>2020-10-07 20:00:01</td>\n",
              "      <td>2020-10-26 07:28:49</td>\n",
              "      <td>True</td>\n",
              "      <td>794</td>\n",
              "      <td>4</td>\n",
              "      <td>19</td>\n",
              "      <td>817</td>\n",
              "      <td>99.000000</td>\n",
              "      <td>2020</td>\n",
              "    </tr>\n",
              "    <tr>\n",
              "      <th>0</th>\n",
              "      <td>{'hash': 'f9b0d75a3f7ba06e230104fd222d09dc43d1...</td>\n",
              "      <td>f9b0d75a3f7ba06e230104fd222d09dc43d184c0bf3b63...</td>\n",
              "      <td>2020-11-03 16:10:01</td>\n",
              "      <td>2020-11-25 12:07:21</td>\n",
              "      <td>True</td>\n",
              "      <td>750</td>\n",
              "      <td>167</td>\n",
              "      <td>1</td>\n",
              "      <td>918</td>\n",
              "      <td>5.000000</td>\n",
              "      <td>2020</td>\n",
              "    </tr>\n",
              "  </tbody>\n",
              "</table>\n",
              "<p>580 rows × 11 columns</p>\n",
              "</div>"
            ],
            "text/plain": [
              "                                                  json  ...  year\n",
              "579  {'hash': 'eac6392cd0d63e4b2ebd3c60da2d3e13137c...  ...  2015\n",
              "578  {'hash': 'cbafad18687045bb72fae611078fac09c3ec...  ...  2015\n",
              "577  {'hash': '428438998eeb3234b232a3609d2e0f112204...  ...  2015\n",
              "576  {'hash': 'a64c67c6d3cc6588fe8fe3c20c2ac1033296...  ...  2015\n",
              "574  {'hash': '8387cdff019c2ebed75b33444ce5bcb27ddd...  ...  2015\n",
              "..                                                 ...  ...   ...\n",
              "4    {'hash': 'f65439a24e5019e6c861e24d226e1f97dbfb...  ...  2020\n",
              "3    {'hash': 'cfb8cf8f6441696b00ff18a01f4da89c755a...  ...  2020\n",
              "2    {'hash': '642ec4b8eb15a4ce16e37977f38f46656e2a...  ...  2020\n",
              "1    {'hash': 'd9cb8264e15b5e76bedae20ee5734316578e...  ...  2020\n",
              "0    {'hash': 'f9b0d75a3f7ba06e230104fd222d09dc43d1...  ...  2020\n",
              "\n",
              "[580 rows x 11 columns]"
            ]
          },
          "metadata": {
            "tags": []
          },
          "execution_count": 24
        }
      ]
    },
    {
      "cell_type": "markdown",
      "metadata": {
        "id": "MDcqKEGjnWIX"
      },
      "source": [
        "### Dash Exchange Rate"
      ]
    },
    {
      "cell_type": "code",
      "metadata": {
        "id": "S7q37ibMsr1O",
        "colab": {
          "base_uri": "https://localhost:8080/",
          "height": 354
        },
        "outputId": "16b384ae-3a0a-4f76-8059-80bafe38cbda"
      },
      "source": [
        "rates_sheet = gc.open('DASH Exchange Rates').sheet1\n",
        "rates = pd.DataFrame.from_records(rates_sheet.get_all_values())\n",
        "rates = rates.rename(columns=dict(zip(rates.loc[0].index, rates.loc[0])))\n",
        "rates = rates.drop(index=0)\n",
        "rates = rates.reset_index()\n",
        "rates.pop('index')\n",
        "rates['Date'] = pd.to_datetime(rates['Date'])\n",
        "rates = rates.set_index('Date').sort_index()\n",
        "rates.head()"
      ],
      "execution_count": null,
      "outputs": [
        {
          "output_type": "execute_result",
          "data": {
            "text/html": [
              "<div>\n",
              "<style scoped>\n",
              "    .dataframe tbody tr th:only-of-type {\n",
              "        vertical-align: middle;\n",
              "    }\n",
              "\n",
              "    .dataframe tbody tr th {\n",
              "        vertical-align: top;\n",
              "    }\n",
              "\n",
              "    .dataframe thead th {\n",
              "        text-align: right;\n",
              "    }\n",
              "</style>\n",
              "<table border=\"1\" class=\"dataframe\">\n",
              "  <thead>\n",
              "    <tr style=\"text-align: right;\">\n",
              "      <th></th>\n",
              "      <th>Open</th>\n",
              "      <th>High</th>\n",
              "      <th>Low</th>\n",
              "      <th>Close</th>\n",
              "      <th>Volume</th>\n",
              "      <th>Market Cap</th>\n",
              "      <th>Source: https://coinmarketcap.com/de/currencies/dash/historical-data/ (Accessed: 2020-10-27)</th>\n",
              "    </tr>\n",
              "    <tr>\n",
              "      <th>Date</th>\n",
              "      <th></th>\n",
              "      <th></th>\n",
              "      <th></th>\n",
              "      <th></th>\n",
              "      <th></th>\n",
              "      <th></th>\n",
              "      <th></th>\n",
              "    </tr>\n",
              "  </thead>\n",
              "  <tbody>\n",
              "    <tr>\n",
              "      <th>2014-02-14</th>\n",
              "      <td>0.213899</td>\n",
              "      <td>0.378883</td>\n",
              "      <td>0.213899</td>\n",
              "      <td>0.374024</td>\n",
              "      <td>15,421.60</td>\n",
              "      <td>1,233,615</td>\n",
              "      <td></td>\n",
              "    </tr>\n",
              "    <tr>\n",
              "      <th>2014-02-15</th>\n",
              "      <td>0.331111</td>\n",
              "      <td>0.354461</td>\n",
              "      <td>0.219434</td>\n",
              "      <td>0.314865</td>\n",
              "      <td>21,118.50</td>\n",
              "      <td>1,046,628</td>\n",
              "      <td></td>\n",
              "    </tr>\n",
              "    <tr>\n",
              "      <th>2014-02-16</th>\n",
              "      <td>0.32584</td>\n",
              "      <td>0.459833</td>\n",
              "      <td>0.310345</td>\n",
              "      <td>0.406976</td>\n",
              "      <td>28,016.90</td>\n",
              "      <td>1,363,376</td>\n",
              "      <td></td>\n",
              "    </tr>\n",
              "    <tr>\n",
              "      <th>2014-02-17</th>\n",
              "      <td>0.406039</td>\n",
              "      <td>1.5</td>\n",
              "      <td>0.402588</td>\n",
              "      <td>1.45</td>\n",
              "      <td>178,618</td>\n",
              "      <td>4,868,772</td>\n",
              "      <td></td>\n",
              "    </tr>\n",
              "    <tr>\n",
              "      <th>2014-02-18</th>\n",
              "      <td>1.18</td>\n",
              "      <td>1.5</td>\n",
              "      <td>0.841751</td>\n",
              "      <td>1.04</td>\n",
              "      <td>160,779</td>\n",
              "      <td>3,494,971</td>\n",
              "      <td></td>\n",
              "    </tr>\n",
              "  </tbody>\n",
              "</table>\n",
              "</div>"
            ],
            "text/plain": [
              "                Open  ... Source: https://coinmarketcap.com/de/currencies/dash/historical-data/ (Accessed: 2020-10-27)\n",
              "Date                  ...                                                                                             \n",
              "2014-02-14  0.213899  ...                                                                                             \n",
              "2014-02-15  0.331111  ...                                                                                             \n",
              "2014-02-16   0.32584  ...                                                                                             \n",
              "2014-02-17  0.406039  ...                                                                                             \n",
              "2014-02-18      1.18  ...                                                                                             \n",
              "\n",
              "[5 rows x 7 columns]"
            ]
          },
          "metadata": {
            "tags": []
          },
          "execution_count": 25
        }
      ]
    },
    {
      "cell_type": "code",
      "metadata": {
        "id": "BmakuY-t9Fpy"
      },
      "source": [
        "rates = rates[[\"Close\"]]\n",
        "rates[\"Close\"] = rates[\"Close\"].str.replace(\",\", \"\").astype(float)"
      ],
      "execution_count": null,
      "outputs": []
    },
    {
      "cell_type": "markdown",
      "metadata": {
        "id": "BHMo7w00vQZn"
      },
      "source": [
        "### Votes USD Analysis"
      ]
    },
    {
      "cell_type": "code",
      "metadata": {
        "id": "dwQ-GKz2sehD",
        "colab": {
          "base_uri": "https://localhost:8080/",
          "height": 394
        },
        "outputId": "2a7cba05-0e4d-4f9a-c12a-48d8c39bab27"
      },
      "source": [
        "last_rate = rates.sort_index().tail(1).index[0]\n",
        "analysis = pd.DataFrame(proposals[proposals.end <= last_rate])\n",
        "analysis['rateDashUsd'] = analysis['end'].apply(lambda x: rates.loc[str(x.date())]['Close'])\n",
        "analysis['fundUsd'] = analysis['fund'] * analysis['rateDashUsd']\n",
        "analysis.head()"
      ],
      "execution_count": null,
      "outputs": [
        {
          "output_type": "execute_result",
          "data": {
            "text/html": [
              "<div>\n",
              "<style scoped>\n",
              "    .dataframe tbody tr th:only-of-type {\n",
              "        vertical-align: middle;\n",
              "    }\n",
              "\n",
              "    .dataframe tbody tr th {\n",
              "        vertical-align: top;\n",
              "    }\n",
              "\n",
              "    .dataframe thead th {\n",
              "        text-align: right;\n",
              "    }\n",
              "</style>\n",
              "<table border=\"1\" class=\"dataframe\">\n",
              "  <thead>\n",
              "    <tr style=\"text-align: right;\">\n",
              "      <th></th>\n",
              "      <th>json</th>\n",
              "      <th>hash</th>\n",
              "      <th>add</th>\n",
              "      <th>end</th>\n",
              "      <th>will_be_funded</th>\n",
              "      <th>yes</th>\n",
              "      <th>no</th>\n",
              "      <th>abstain</th>\n",
              "      <th>votes</th>\n",
              "      <th>fund</th>\n",
              "      <th>year</th>\n",
              "      <th>rateDashUsd</th>\n",
              "      <th>fundUsd</th>\n",
              "    </tr>\n",
              "  </thead>\n",
              "  <tbody>\n",
              "    <tr>\n",
              "      <th>2</th>\n",
              "      <td>{'hash': '642ec4b8eb15a4ce16e37977f38f46656e2a...</td>\n",
              "      <td>642ec4b8eb15a4ce16e37977f38f46656e2a91c62ec96b...</td>\n",
              "      <td>2020-09-13 06:35:01</td>\n",
              "      <td>2020-09-26 03:50:17</td>\n",
              "      <td>True</td>\n",
              "      <td>948</td>\n",
              "      <td>67</td>\n",
              "      <td>8</td>\n",
              "      <td>1023</td>\n",
              "      <td>266.0</td>\n",
              "      <td>2020</td>\n",
              "      <td>69.03</td>\n",
              "      <td>18361.980</td>\n",
              "    </tr>\n",
              "    <tr>\n",
              "      <th>3</th>\n",
              "      <td>{'hash': 'cfb8cf8f6441696b00ff18a01f4da89c755a...</td>\n",
              "      <td>cfb8cf8f6441696b00ff18a01f4da89c755a81b34dbb22...</td>\n",
              "      <td>2020-09-13 05:25:01</td>\n",
              "      <td>2020-09-26 03:50:17</td>\n",
              "      <td>True</td>\n",
              "      <td>986</td>\n",
              "      <td>36</td>\n",
              "      <td>0</td>\n",
              "      <td>1022</td>\n",
              "      <td>266.0</td>\n",
              "      <td>2020</td>\n",
              "      <td>69.03</td>\n",
              "      <td>18361.980</td>\n",
              "    </tr>\n",
              "    <tr>\n",
              "      <th>4</th>\n",
              "      <td>{'hash': 'f65439a24e5019e6c861e24d226e1f97dbfb...</td>\n",
              "      <td>f65439a24e5019e6c861e24d226e1f97dbfb0165577ef0...</td>\n",
              "      <td>2020-08-17 14:00:02</td>\n",
              "      <td>2020-08-26 23:11:45</td>\n",
              "      <td>True</td>\n",
              "      <td>1062</td>\n",
              "      <td>2</td>\n",
              "      <td>2</td>\n",
              "      <td>1066</td>\n",
              "      <td>232.5</td>\n",
              "      <td>2020</td>\n",
              "      <td>86.13</td>\n",
              "      <td>20025.225</td>\n",
              "    </tr>\n",
              "    <tr>\n",
              "      <th>5</th>\n",
              "      <td>{'hash': '9f9cbe6aeeb0057344991dabd03aecb6f684...</td>\n",
              "      <td>9f9cbe6aeeb0057344991dabd03aecb6f684ecde9e837c...</td>\n",
              "      <td>2020-08-07 17:45:02</td>\n",
              "      <td>2020-08-26 23:11:45</td>\n",
              "      <td>True</td>\n",
              "      <td>811</td>\n",
              "      <td>50</td>\n",
              "      <td>0</td>\n",
              "      <td>861</td>\n",
              "      <td>132.0</td>\n",
              "      <td>2020</td>\n",
              "      <td>86.13</td>\n",
              "      <td>11369.160</td>\n",
              "    </tr>\n",
              "    <tr>\n",
              "      <th>6</th>\n",
              "      <td>{'hash': 'ee6611ecbc6a23277edfa62c864321727ba7...</td>\n",
              "      <td>ee6611ecbc6a23277edfa62c864321727ba795ea9f1953...</td>\n",
              "      <td>2020-08-07 14:05:02</td>\n",
              "      <td>2020-08-26 23:11:45</td>\n",
              "      <td>True</td>\n",
              "      <td>719</td>\n",
              "      <td>134</td>\n",
              "      <td>18</td>\n",
              "      <td>871</td>\n",
              "      <td>27.0</td>\n",
              "      <td>2020</td>\n",
              "      <td>86.13</td>\n",
              "      <td>2325.510</td>\n",
              "    </tr>\n",
              "  </tbody>\n",
              "</table>\n",
              "</div>"
            ],
            "text/plain": [
              "                                                json  ...    fundUsd\n",
              "2  {'hash': '642ec4b8eb15a4ce16e37977f38f46656e2a...  ...  18361.980\n",
              "3  {'hash': 'cfb8cf8f6441696b00ff18a01f4da89c755a...  ...  18361.980\n",
              "4  {'hash': 'f65439a24e5019e6c861e24d226e1f97dbfb...  ...  20025.225\n",
              "5  {'hash': '9f9cbe6aeeb0057344991dabd03aecb6f684...  ...  11369.160\n",
              "6  {'hash': 'ee6611ecbc6a23277edfa62c864321727ba7...  ...   2325.510\n",
              "\n",
              "[5 rows x 13 columns]"
            ]
          },
          "metadata": {
            "tags": []
          },
          "execution_count": 27
        }
      ]
    },
    {
      "cell_type": "code",
      "metadata": {
        "id": "j4UzoJVtz5rx",
        "colab": {
          "base_uri": "https://localhost:8080/",
          "height": 569
        },
        "outputId": "c49173f2-b309-45a3-961c-6891c8f5497b"
      },
      "source": [
        "analysis = analysis.sort_values('end')\n",
        "funded = analysis[analysis['will_be_funded']]\n",
        "funded.groupby('year').sum('fundUsd').sort_index().plot(y='fundUsd')\n",
        "funded.groupby('year').sum('votes').sort_index().plot(y='votes')"
      ],
      "execution_count": null,
      "outputs": [
        {
          "output_type": "execute_result",
          "data": {
            "text/plain": [
              "<matplotlib.axes._subplots.AxesSubplot at 0x7f485e015c88>"
            ]
          },
          "metadata": {
            "tags": []
          },
          "execution_count": 28
        },
        {
          "output_type": "display_data",
          "data": {
            "image/png": "[encoded data removed]",
            "text/plain": [
              "<Figure size 432x288 with 1 Axes>"
            ]
          },
          "metadata": {
            "tags": [],
            "needs_background": "light"
          }
        },
        {
          "output_type": "display_data",
          "data": {
            "image/png": "[encoded data removed]",
            "text/plain": [
              "<Figure size 432x288 with 1 Axes>"
            ]
          },
          "metadata": {
            "tags": [],
            "needs_background": "light"
          }
        }
      ]
    },
    {
      "cell_type": "markdown",
      "metadata": {
        "id": "bOKYfrahH2RG"
      },
      "source": [
        "### Latex Input"
      ]
    },
    {
      "cell_type": "code",
      "metadata": {
        "colab": {
          "base_uri": "https://localhost:8080/"
        },
        "id": "3_r24euVil4G",
        "outputId": "6734cfe4-ac2c-42a5-df1c-88ac3f90543d"
      },
      "source": [
        "first_proposal_date = proposals.sort_values(\"add\").head(1)['add'].values[0].astype(str)[0: 10]\n",
        "last_proposal_date = rates.sort_index().tail(1).index[0].date().isoformat()\n",
        "print('\\\\newcommand{\\\\dashFirstProposal}[0]{\\mbox{' + first_proposal_date + '}\\\\@\\\\xspace}')\n",
        "print('\\\\newcommand{\\\\dashLastProposal}[0]{\\mbox{' + last_proposal_date + '}\\\\@\\\\xspace}')\n",
        "print('\\\\newcommand{\\\\dashProposals}[0]{\\mbox{' + str(analysis.shape[0]) + '}\\\\@\\\\xspace}')\n",
        "print('\\\\newcommand{\\\\dashProposalsWillBeFunded}[0]{\\mbox{' + str(analysis[analysis[\"will_be_funded\"] == True].shape[0]) + '}\\\\@\\\\xspace}')"
      ],
      "execution_count": null,
      "outputs": [
        {
          "output_type": "stream",
          "text": [
            "\\newcommand{\\dashFirstProposal}[0]{\\mbox{2015-08-27}\\@\\xspace}\n",
            "\\newcommand{\\dashLastProposal}[0]{\\mbox{2020-10-26}\\@\\xspace}\n",
            "\\newcommand{\\dashProposals}[0]{\\mbox{578}\\@\\xspace}\n",
            "\\newcommand{\\dashProposalsWillBeFunded}[0]{\\mbox{390}\\@\\xspace}\n"
          ],
          "name": "stdout"
        }
      ]
    },
    {
      "cell_type": "code",
      "metadata": {
        "id": "j7HdAWarMhCi",
        "colab": {
          "base_uri": "https://localhost:8080/"
        },
        "outputId": "71f7d620-97d5-4461-a9d4-e98d54ce56cd"
      },
      "source": [
        "successfulProposals = analysis[analysis['will_be_funded'] == True]\n",
        "print('\\\\newcommand{\\\\dashFunded}[0]{$' + f'{successfulProposals[\"fund\"].sum():n}'.replace(',', '\\\\,') + '$\\\\@\\\\xspace}')\n",
        "print('\\\\newcommand{\\\\dashFundedUsd}[0]{$' + f'{successfulProposals[\"fundUsd\"].sum() / 1000000:.1f}'.replace(',', '\\\\,') + '$\\\\@\\\\xspace}')\n",
        "\n"
      ],
      "execution_count": null,
      "outputs": [
        {
          "output_type": "stream",
          "text": [
            "\\newcommand{\\dashFunded}[0]{$133\\,901$\\@\\xspace}\n",
            "\\newcommand{\\dashFundedUsd}[0]{$15.7$\\@\\xspace}\n"
          ],
          "name": "stdout"
        }
      ]
    },
    {
      "cell_type": "code",
      "metadata": {
        "id": "5Js4Mgo31Bst",
        "colab": {
          "base_uri": "https://localhost:8080/",
          "height": 71
        },
        "outputId": "50126850-e50e-468d-a186-93052a5b2d3e"
      },
      "source": [
        "analysis['count'] = 1\n",
        "grouped = analysis.groupby('year').sum(['fundUsd', 'votes', 'count'])\n",
        "grouped['fundUsd'] = grouped['fundUsd'].round().astype(int)\n",
        "grouped['fund'] = grouped['fund'].round().astype(int)\n",
        "grouped[['fundUsd', 'votes', 'yes', 'no', 'count']].to_csv()"
      ],
      "execution_count": null,
      "outputs": [
        {
          "output_type": "execute_result",
          "data": {
            "application/vnd.google.colaboratory.intrinsic+json": {
              "type": "string"
            },
            "text/plain": [
              "'year,fundUsd,votes,yes,no,count\\n2015,34208,12822,11156,1666,11\\n2016,304947,99147,86171,12976,91\\n2017,9915181,123749,106447,14240,171\\n2018,16485710,77179,61765,13577,177\\n2019,3315861,65606,53665,10358,84\\n2020,1363793,43294,37131,5516,44\\n'"
            ]
          },
          "metadata": {
            "tags": []
          },
          "execution_count": 31
        }
      ]
    },
    {
      "cell_type": "code",
      "metadata": {
        "id": "CAO3bfCF2CtC",
        "colab": {
          "base_uri": "https://localhost:8080/",
          "height": 266
        },
        "outputId": "418f7903-5d21-4621-c330-342ce439e42e"
      },
      "source": [
        "grouped"
      ],
      "execution_count": null,
      "outputs": [
        {
          "output_type": "execute_result",
          "data": {
            "text/html": [
              "<div>\n",
              "<style scoped>\n",
              "    .dataframe tbody tr th:only-of-type {\n",
              "        vertical-align: middle;\n",
              "    }\n",
              "\n",
              "    .dataframe tbody tr th {\n",
              "        vertical-align: top;\n",
              "    }\n",
              "\n",
              "    .dataframe thead th {\n",
              "        text-align: right;\n",
              "    }\n",
              "</style>\n",
              "<table border=\"1\" class=\"dataframe\">\n",
              "  <thead>\n",
              "    <tr style=\"text-align: right;\">\n",
              "      <th></th>\n",
              "      <th>will_be_funded</th>\n",
              "      <th>yes</th>\n",
              "      <th>no</th>\n",
              "      <th>abstain</th>\n",
              "      <th>votes</th>\n",
              "      <th>fund</th>\n",
              "      <th>rateDashUsd</th>\n",
              "      <th>fundUsd</th>\n",
              "      <th>count</th>\n",
              "    </tr>\n",
              "    <tr>\n",
              "      <th>year</th>\n",
              "      <th></th>\n",
              "      <th></th>\n",
              "      <th></th>\n",
              "      <th></th>\n",
              "      <th></th>\n",
              "      <th></th>\n",
              "      <th></th>\n",
              "      <th></th>\n",
              "      <th></th>\n",
              "    </tr>\n",
              "  </thead>\n",
              "  <tbody>\n",
              "    <tr>\n",
              "      <th>2015</th>\n",
              "      <td>10</td>\n",
              "      <td>11156</td>\n",
              "      <td>1666</td>\n",
              "      <td>0</td>\n",
              "      <td>12822</td>\n",
              "      <td>14174</td>\n",
              "      <td>26.59</td>\n",
              "      <td>34208</td>\n",
              "      <td>11</td>\n",
              "    </tr>\n",
              "    <tr>\n",
              "      <th>2016</th>\n",
              "      <td>86</td>\n",
              "      <td>86171</td>\n",
              "      <td>12976</td>\n",
              "      <td>0</td>\n",
              "      <td>99147</td>\n",
              "      <td>33884</td>\n",
              "      <td>842.24</td>\n",
              "      <td>304947</td>\n",
              "      <td>91</td>\n",
              "    </tr>\n",
              "    <tr>\n",
              "      <th>2017</th>\n",
              "      <td>123</td>\n",
              "      <td>106447</td>\n",
              "      <td>14240</td>\n",
              "      <td>3062</td>\n",
              "      <td>123749</td>\n",
              "      <td>48615</td>\n",
              "      <td>40154.15</td>\n",
              "      <td>9915181</td>\n",
              "      <td>171</td>\n",
              "    </tr>\n",
              "    <tr>\n",
              "      <th>2018</th>\n",
              "      <td>69</td>\n",
              "      <td>61765</td>\n",
              "      <td>13577</td>\n",
              "      <td>1837</td>\n",
              "      <td>77179</td>\n",
              "      <td>46484</td>\n",
              "      <td>83579.46</td>\n",
              "      <td>16485710</td>\n",
              "      <td>177</td>\n",
              "    </tr>\n",
              "    <tr>\n",
              "      <th>2019</th>\n",
              "      <td>61</td>\n",
              "      <td>53665</td>\n",
              "      <td>10358</td>\n",
              "      <td>1583</td>\n",
              "      <td>65606</td>\n",
              "      <td>33640</td>\n",
              "      <td>7971.89</td>\n",
              "      <td>3315861</td>\n",
              "      <td>84</td>\n",
              "    </tr>\n",
              "    <tr>\n",
              "      <th>2020</th>\n",
              "      <td>41</td>\n",
              "      <td>37131</td>\n",
              "      <td>5516</td>\n",
              "      <td>647</td>\n",
              "      <td>43294</td>\n",
              "      <td>16025</td>\n",
              "      <td>3745.45</td>\n",
              "      <td>1363793</td>\n",
              "      <td>44</td>\n",
              "    </tr>\n",
              "  </tbody>\n",
              "</table>\n",
              "</div>"
            ],
            "text/plain": [
              "      will_be_funded     yes     no  ...  rateDashUsd   fundUsd  count\n",
              "year                                 ...                              \n",
              "2015              10   11156   1666  ...        26.59     34208     11\n",
              "2016              86   86171  12976  ...       842.24    304947     91\n",
              "2017             123  106447  14240  ...     40154.15   9915181    171\n",
              "2018              69   61765  13577  ...     83579.46  16485710    177\n",
              "2019              61   53665  10358  ...      7971.89   3315861     84\n",
              "2020              41   37131   5516  ...      3745.45   1363793     44\n",
              "\n",
              "[6 rows x 9 columns]"
            ]
          },
          "metadata": {
            "tags": []
          },
          "execution_count": 32
        }
      ]
    },
    {
      "cell_type": "markdown",
      "metadata": {
        "id": "HafI0klGo6DL"
      },
      "source": [
        "# Bitcoin"
      ]
    },
    {
      "cell_type": "code",
      "metadata": {
        "colab": {
          "base_uri": "https://localhost:8080/"
        },
        "id": "PEQ3vBd7o-Zc",
        "outputId": "f981bbd6-14a0-48f9-bb64-5bcd2b414532"
      },
      "source": [
        "print('% Avg P2PKH transaction weight and stddev')\n",
        "job = client.query('CREATE TEMP FUNCTION MEDIAN(arr ANY TYPE) AS ((SELECT IF(MOD(ARRAY_LENGTH(arr), 2) = 0, (arr[OFFSET(DIV(ARRAY_LENGTH(arr), 2) - 1)] + arr[OFFSET(DIV(ARRAY_LENGTH(arr), 2))]) / 2, arr[OFFSET(DIV(ARRAY_LENGTH(arr), 2))]) FROM (SELECT ARRAY_AGG(x ORDER BY x) AS arr FROM UNNEST(arr) AS x))); SELECT MEDIAN(ARRAY_AGG(virtual_size)) as virtual_size_median, STDDEV(virtual_size) virtual_size_std FROM `bigquery-public-data.crypto_bitcoin.transactions` WHERE input_count = 1 AND output_count = 1 AND size != virtual_size AND outputs[OFFSET(0)].type like \"witness%keyhash\" AND inputs[OFFSET(0)].type like \"witness%keyhash\" AND block_timestamp_month <= \"2020-10-01\"')\n",
        "result = next(iter(job.result()))\n",
        "print('\\\\newcommand{\\\\bitcoinPToPKHWeight}[0]{$' + f'{result[0]:n}'.replace(',', '\\\\,') + '$\\\\@\\\\xspace}')\n",
        "print('\\\\newcommand{\\\\bitcoinPToPKHWeightStd}[0]{$' + f'{result[1]:.3f}'.replace(',', '\\\\,') + '$\\\\@\\\\xspace}')\n"
      ],
      "execution_count": null,
      "outputs": [
        {
          "output_type": "stream",
          "text": [
            "% Avg P2PKH transaction weight and stddev\n",
            "\\newcommand{\\bitcoinPToPKHWeight}[0]{$110$\\@\\xspace}\n",
            "\\newcommand{\\bitcoinPToPKHWeightStd}[0]{$0.069$\\@\\xspace}\n"
          ],
          "name": "stdout"
        }
      ]
    },
    {
      "cell_type": "markdown",
      "metadata": {
        "id": "-buSE8F3feuu"
      },
      "source": [
        "# Residual Capacities Analysis\n",
        "Querying the residual capacities requires an advanced SQL script which is available at our Github respository. The measurement results are available in our gasMeasurements table. The median values in the paper are calculated as follows."
      ]
    },
    {
      "cell_type": "markdown",
      "metadata": {
        "id": "0Ztr2qWggXQm"
      },
      "source": [
        "```sql\n",
        "CREATE TEMP FUNCTION\n",
        "  MEDIAN(arr ANY TYPE) AS ((\n",
        "    SELECT\n",
        "    IF\n",
        "      (MOD(ARRAY_LENGTH(arr), 2) = 0,\n",
        "        (arr[\n",
        "        OFFSET\n",
        "          (DIV(ARRAY_LENGTH(arr), 2) - 1)] + arr[\n",
        "        OFFSET\n",
        "          (DIV(ARRAY_LENGTH(arr), 2))]) / 2,\n",
        "        arr[\n",
        "      OFFSET\n",
        "        (DIV(ARRAY_LENGTH(arr), 2))])\n",
        "    FROM (\n",
        "      SELECT\n",
        "        ARRAY_AGG(x\n",
        "        ORDER BY\n",
        "          x) AS arr\n",
        "      FROM\n",
        "        UNNEST(arr) AS x)));\n",
        "\n",
        "CREATE TEMP FUNCTION\n",
        "  MAD(arr ANY TYPE) AS ((\n",
        "    SELECT\n",
        "    MEDIAN(\n",
        "    ARRAY_AGG(\n",
        "    ABS(MEDIAN(arr) - x)\n",
        "    )\n",
        "    )\n",
        "    FROM\n",
        "        UNNEST(arr) AS x\n",
        "  ));\n",
        "  \n",
        "CREATE TEMP FUNCTION hhmm(num ANY TYPE) AS (\n",
        "  FORMAT(\"%02d\", CAST(FLOOR(num / 60) AS INT64)) || \":\" || FORMAT(\"%02d\", CAST(MOD(CAST(num as INT64), 60) AS INT64))\n",
        ");\n",
        "\n",
        "\n",
        "WITH evals AS\n",
        "( SELECT 'Ethereum Na\\\\\"ive' as name, 1 as sort, 21000 * 2000 as gas, 12 * POW(10, 6) as blocksize_limit, 15 as block_rate\n",
        "  UNION ALL\n",
        "  SELECT 'Ethereum Minimal Voting' as name, 2 as sort, 41897 * 2000 as gas, 12 * POW(10, 6) as blocksize_limit, 15 as block_rate\n",
        "  UNION ALL\n",
        "  SELECT 'Ethereum \\\\emph{The DAO}' as name, 3 as sort, 150000 * 2000 as gas, 12 * POW(10, 6) as blocksize_limit, 15 as block_rate\n",
        "  UNION ALL\n",
        "  SELECT 'Bitcoin Na\\\\\"ive' as name, 4 as sort, 110 * 2000 as gas, 4000000 as blocksize_limit, 600 as block_rate\n",
        "  UNION ALL\n",
        "  SELECT 'Dash' as name, 4.5 as sort, 191 * 2000 as gas, 2000000 as blocksize_limit, 150 as block_rate\n",
        "\n",
        "  UNION ALL\n",
        "  SELECT 'Ethereum Na\\\\\"ive' as name, 5 as sort, 21000 * 100000 as gas, 12 * POW(10, 6) as blocksize_limit, 15 as block_rate\n",
        "  UNION ALL\n",
        "  SELECT 'Ethereum Minimal Voting' as name, 6 as sort, 41897 * 100000 as gas, 12 * POW(10, 6) as blocksize_limit, 15 as block_rate\n",
        "  UNION ALL\n",
        "  SELECT 'Ethereum \\\\emph{The DAO}' as name, 7 as sort, 150000 * 100000 as gas, 12 * POW(10, 6) as blocksize_limit, 15 as block_rate\n",
        "  UNION ALL\n",
        "  SELECT 'Bitcoin Na\\\\\"ive' as name, 8 as sort, 110 * 100000 as gas, 4000000 as blocksize_limit, 600 as block_rate\n",
        "  UNION ALL\n",
        "  SELECT 'Dash' as name, 9 as sort, 191 * 100000 as gas, 2000000 as blocksize_limit, 150 as block_rate\n",
        ")\n",
        "\n",
        "SELECT ' & ' || name\n",
        "  || ' & ' || CEIL(gas / blocksize_limit)\n",
        "  || ' & ' || CEIL(blocks_median)\n",
        "  || ' & ' || CEIL(blocks_mad)\n",
        "  || ' & '\n",
        "  || ' & ' || hhmm(CEIL(CEIL(gas / blocksize_limit) * block_rate / 60))\n",
        "  || ' & ' || hhmm(CEIL(duration_median))\n",
        "  || ' & ' || hhmm(CEIL(duration_mad))\n",
        "  || ' \\\\\\\\'\n",
        "\n",
        "\n",
        "\n",
        "FROM (\n",
        "\n",
        "SELECT\n",
        "  (SELECT name FROM evals WHERE evals.gas = gasMeasurements.gas) as name,\n",
        "  (SELECT sort FROM evals WHERE evals.gas = gasMeasurements.gas) as sort,\n",
        "  (SELECT blocksize_limit FROM evals WHERE evals.gas = gasMeasurements.gas) as blocksize_limit,\n",
        "  (SELECT block_rate FROM evals WHERE evals.gas = gasMeasurements.gas) as block_rate,\n",
        "  gasMeasurements.gas as gas,\n",
        "  MEDIAN(ARRAY_AGG(blocks)) as blocks_median,\n",
        "  stddev(blocks) as blocks_stdev,\n",
        "  MAD(ARRAY_AGG(blocks)) as blocks_mad,\n",
        "  MEDIAN(ARRAY_AGG(duration)) as duration_median,\n",
        "  stddev(duration) as duration_stdev,\n",
        "  MAD(ARRAY_AGG(duration)) as duration_mad,\n",
        "  COUNT(*) as measurements\n",
        "FROM\n",
        "  `evotinggasanalysis.20201027.gasMeasurements` gasMeasurements\n",
        "group by gasMeasurements.gas\n",
        "ORDER BY sort ASC\n",
        ")\n",
        "```\n"
      ]
    },
    {
      "cell_type": "markdown",
      "metadata": {
        "id": "8rHau_JJIBUN"
      },
      "source": [
        "# Latex Input\n",
        "This section executes SQL analysis queries as latex inputs for our paper."
      ]
    },
    {
      "cell_type": "code",
      "metadata": {
        "id": "UvWdMdS_IDJ-",
        "colab": {
          "base_uri": "https://localhost:8080/"
        },
        "outputId": "0fe6129b-3c88-4a0e-ee52-8fb082ce3772"
      },
      "source": [
        "print('% Number of method hashes (aka signatures)')\n",
        "signaturesCount = votingSigns.shape[0]\n",
        "print('\\\\newcommand{\\\\signatures}[0]{$' + f'{signaturesCount:n}'.replace(',', '\\\\,') + '$\\\\@\\\\xspace}')\n",
        "\n",
        "print('% Number of voting smart contracts (with methods > 1 and unique by their address)')\n",
        "job = client.query('SELECT SUM(count) FROM ( SELECT substr(cast(date(votingContract.block_timestamp) as string), 0, 4) as year, count(*) as count FROM `evotinggasanalysis.{0}.votingContracts` votingContract, `evotinggasanalysis.{0}.votingContractMethods` count WHERE 1=1 AND count.address = votingContract.address AND count.voting_methods > 1 AND DATE(votingContract.block_timestamp) <= \\'{1}\\' group by year order by year ASC )'.format(dataset, maxBlock))\n",
        "result = job.result()\n",
        "deployedVotingSmartContracts = next(iter(result))[0]\n",
        "print('\\\\newcommand{\\\\deployedVotingSmartContracts}[0]{$' + f'{deployedVotingSmartContracts:n}'.replace(',', '\\\\,') + '$\\\\@\\\\xspace}')\n",
        "\n",
        "print('% ... and the sum of their Ether balanaces')\n",
        "job = client.query('SELECT SUM(balances.eth_balance / 1000000000000000000) AS balance, FROM `evotinggasanalysis.{0}.votingContracts` votingContract, `evotinggasanalysis.{0}.votingContractMethods` count, bigquery-public-data.crypto_ethereum.balances balances WHERE count.address = votingContract.address AND votingContract.address = balances.address AND count.voting_methods > 1 AND DATE(votingContract.block_timestamp) <= \\'{1}\\''.format(dataset, maxBlock))\n",
        "result = job.result()\n",
        "deployedVotingSmartContractsBalanaces = int(next(iter(result))[0])\n",
        "print('\\\\newcommand{\\\\deployedVotingSmartContractsBalanaces}[0]{$' + f'{deployedVotingSmartContractsBalanaces:n}'.replace(',', '\\\\,') + '$\\\\@\\\\xspace}')\n"
      ],
      "execution_count": null,
      "outputs": [
        {
          "output_type": "stream",
          "text": [
            "% Number of method hashes (aka signatures)\n",
            "\\newcommand{\\signatures}[0]{$1\\,472$\\@\\xspace}\n",
            "% Number of voting smart contracts (with methods > 1 and unique by their address)\n",
            "\\newcommand{\\deployedVotingSmartContracts}[0]{$3\\,386$\\@\\xspace}\n",
            "% ... and the sum of their Ether balanaces\n",
            "\\newcommand{\\deployedVotingSmartContractsBalanaces}[0]{$12\\,064$\\@\\xspace}\n"
          ],
          "name": "stdout"
        }
      ]
    },
    {
      "cell_type": "code",
      "metadata": {
        "id": "ki8bMRw0VzYL",
        "colab": {
          "base_uri": "https://localhost:8080/"
        },
        "outputId": "4d42481c-fdcb-4f84-88c9-e678ebcc5fed"
      },
      "source": [
        "job = client.query('SELECT SUM(transactions.value / 1000000000000000000) AS txs_balance, FROM `evotinggasanalysis.{0}.votingContracts` votingContract, `evotinggasanalysis.{0}.votingContractMethods` count, bigquery-public-data.crypto_ethereum.transactions transactions WHERE 1=1 AND count.address = votingContract.address AND count.voting_methods > 1 AND DATE(transactions.block_timestamp) <= \\'{1}\\' AND transactions.to_address = votingContract.address'.format(dataset, maxBlock))\n",
        "result = job.result()\n",
        "deployedVotingSmartContractsReceivedEther = int(next(iter(result))[0])\n",
        "print('\\\\newcommand{\\\\deployedVotingSmartContractsReceivedEther}[0]{$' + f'{deployedVotingSmartContractsReceivedEther:n}'.replace(',', '\\\\,') + '$\\\\@\\\\xspace}')"
      ],
      "execution_count": null,
      "outputs": [
        {
          "output_type": "stream",
          "text": [
            "\\newcommand{\\deployedVotingSmartContractsReceivedEther}[0]{$12\\,094\\,205$\\@\\xspace}\n"
          ],
          "name": "stdout"
        }
      ]
    },
    {
      "cell_type": "code",
      "metadata": {
        "id": "FB3SIKpqIfZ_",
        "colab": {
          "base_uri": "https://localhost:8080/"
        },
        "outputId": "59a9cfea-e2c0-442b-bf91-7d7f90b58290"
      },
      "source": [
        "job = client.query('SELECT COUNT(*) FROM evotinggasanalysis.{0}.votingContracts contracts, evotinggasanalysis.{0}.votingContractMethods count, bigquery-public-data.crypto_ethereum.transactions transactions WHERE DATE(contracts.block_timestamp) <= \\'{1}\\' AND DATE(transactions.block_timestamp) <= \\'{1}\\' AND count.address = contracts.address AND count.voting_methods >  1 AND contracts.address = transactions.to_address'.format(dataset, maxBlock))\n",
        "result = job.result()\n",
        "allTransactionsToVotingSmartContracts = int(next(iter(result))[0])\n",
        "print('\\\\newcommand{\\\\allTransactionsToVotingSmartContracts}[0]{$' + f'{allTransactionsToVotingSmartContracts:n}'.replace(',', '\\\\,') + '$\\\\@\\\\xspace}')"
      ],
      "execution_count": null,
      "outputs": [
        {
          "output_type": "stream",
          "text": [
            "\\newcommand{\\allTransactionsToVotingSmartContracts}[0]{$788\\,820$\\@\\xspace}\n"
          ],
          "name": "stdout"
        }
      ]
    },
    {
      "cell_type": "code",
      "metadata": {
        "id": "CoaSNCs0eBH6",
        "colab": {
          "base_uri": "https://localhost:8080/"
        },
        "outputId": "76787d5b-c719-45c9-d25c-47787aece43d"
      },
      "source": [
        "job = client.query('SELECT COUNT(*) FROM evotinggasanalysis.{0}.votingTransactions WHERE DATE(block_timestamp) <= \\'{1}\\''.format(dataset, maxBlock))\n",
        "result = job.result()\n",
        "votingTransactions = int(next(iter(result))[0])\n",
        "print('\\\\newcommand{\\\\votingTransactions}[0]{$' + f'{votingTransactions:n}'.replace(',', '\\\\,') + '$\\\\@\\\\xspace}')"
      ],
      "execution_count": null,
      "outputs": [
        {
          "output_type": "stream",
          "text": [
            "\\newcommand{\\votingTransactions}[0]{$130\\,152$\\@\\xspace}\n"
          ],
          "name": "stdout"
        }
      ]
    },
    {
      "cell_type": "code",
      "metadata": {
        "id": "SFrbK2ImYg8x",
        "colab": {
          "base_uri": "https://localhost:8080/"
        },
        "outputId": "a1439889-136a-4d5b-c2e5-459dcf12ed66"
      },
      "source": [
        "job = client.query('SELECT COUNT(*) FROM `bigquery-public-data`.crypto_ethereum.transactions WHERE (receipt_status IS NULL OR receipt_status = 1) AND DATE(block_timestamp) <= \\'{1}\\' AND to_address IN ( SELECT DISTINCT to_address FROM evotinggasanalysis.{0}.votingTransactions)'.format(dataset, maxBlock))\n",
        "result = job.result()\n",
        "allTransactionsToVotingSmartContracts = int(next(iter(result))[0])\n",
        "print('\\\\newcommand{\\\\allTransactionsToVotingSmartContracts}[0]{$' + f'{allTransactionsToVotingSmartContracts:n}'.replace(',', '\\\\,') + '$\\\\@\\\\xspace}')"
      ],
      "execution_count": null,
      "outputs": [
        {
          "output_type": "stream",
          "text": [
            "\\newcommand{\\allTransactionsToVotingSmartContracts}[0]{$1\\,459\\,327$\\@\\xspace}\n"
          ],
          "name": "stdout"
        }
      ]
    },
    {
      "cell_type": "code",
      "metadata": {
        "id": "Kzi48y8daZ_N",
        "colab": {
          "base_uri": "https://localhost:8080/"
        },
        "outputId": "0a9e4c7f-658b-41bb-ce10-3455087ec32c"
      },
      "source": [
        "job = client.query('SELECT count(*) as count FROM `evotinggasanalysis.{0}.votingContracts` votingContract, `evotinggasanalysis.{0}.votingContractMethods` count WHERE 1=1 AND count.address = votingContract.address AND count.voting_methods > 1 AND DATE(votingContract.block_timestamp) <= \\'{1}\\''.format(dataset, maxBlock))\n",
        "result = job.result()\n",
        "votingSmartContractsWithMoreThanOneMethod = int(next(iter(result))[0])\n",
        "print('\\\\newcommand{\\\\votingSmartContractsWithMoreThanOneMethod}[0]{$' + f'{votingSmartContractsWithMoreThanOneMethod:n}'.replace(',', '\\\\,') + '$\\\\@\\\\xspace}')"
      ],
      "execution_count": null,
      "outputs": [
        {
          "output_type": "stream",
          "text": [
            "\\newcommand{\\votingSmartContractsWithMoreThanOneMethod}[0]{$3\\,386$\\@\\xspace}\n"
          ],
          "name": "stdout"
        }
      ]
    },
    {
      "cell_type": "code",
      "metadata": {
        "id": "lNvLJdrTbi7q",
        "colab": {
          "base_uri": "https://localhost:8080/"
        },
        "outputId": "c6b154dd-6ca7-41fe-eb29-e30c85fe0feb"
      },
      "source": [
        "job = client.query('SELECT COUNT(votingTransactions.function_sighash) calls, votingTransactions.function_sighash sig_hash, functionSighashes.signature signature, (SELECT SUM(t.receipt_gas_used) FROM `evotinggasanalysis.{0}.votingTransactions` t WHERE t.function_sighash = votingTransactions.function_sighash) as sum_tx_gas, (SELECT SUM(t.receipt_gas_used) FROM `evotinggasanalysis.{0}.votingTransactions` t WHERE t.function_sighash = votingTransactions.function_sighash) / COUNT(votingTransactions.function_sighash) as gas_per_call_avg, CAST((SELECT SUM(t.gas_price) FROM `evotinggasanalysis.{0}.votingTransactions` t WHERE t.function_sighash = votingTransactions.function_sighash) / COUNT(votingTransactions.function_sighash) as INT64) as gas_price_per_call_avg, (SELECT SUM(t.value) FROM `evotinggasanalysis.{0}.votingTransactions` t WHERE t.function_sighash = votingTransactions.function_sighash) / 1000000000000000000 as sum_tx_value, FROM evotinggasanalysis.{0}.votingTransactions votingTransactions, evotinggasanalysis.{0}.functionSighashes functionSighashes WHERE functionSighashes.hash = votingTransactions.function_sighash and date(votingTransactions.block_timestamp) <= \\'{1}\\' GROUP BY votingTransactions.function_sighash, functionSighashes.signature ORDER BY calls DESC LIMIT 10'.format(dataset, maxBlock))\n",
        "result = job.result()\n",
        "result"
      ],
      "execution_count": null,
      "outputs": [
        {
          "output_type": "execute_result",
          "data": {
            "text/plain": [
              "<google.cloud.bigquery.table.RowIterator at 0x7f485df657f0>"
            ]
          },
          "metadata": {
            "tags": []
          },
          "execution_count": 40
        }
      ]
    },
    {
      "cell_type": "code",
      "metadata": {
        "id": "OdcO5RFGgd1H",
        "colab": {
          "base_uri": "https://localhost:8080/"
        },
        "outputId": "181089cd-6e54-4dae-9bbb-164602633147"
      },
      "source": [
        "i = 1\n",
        "for row in result: # calls, sig_hash, signature, sum_tx_gas, gas_per_call_avg, gas_price_per_call_avg, sum_tx_value\n",
        "  print(str(i) + ' & ', end='')\n",
        "  print(f'{int(row[0]):n} \\t& '.replace(',', '\\,'), end='')\n",
        "  print('\\\\texttt{' + str(row[1]) + '} & ', end='')\n",
        "  print('\\\\texttt{' + str(row[2]) + '} & ', end='')\n",
        "  print(f'{row[4]/1000:.0f}'.replace(',', '\\,') + '\\,k & ', end='')\n",
        "  print(f'{row[5]/1000000000:.1f}'.replace(',', '\\,'), end='')\n",
        "  print('\\,Gwei \\\\\\\\')\n",
        "  i += 1"
      ],
      "execution_count": null,
      "outputs": [
        {
          "output_type": "stream",
          "text": [
            "1 & 80\\,676 \t& \\texttt{0x0121b93f} & \\texttt{vote(uint256)} & 71\\,k & 2.4\\,Gwei \\\\\n",
            "2 & 6\\,996 \t& \\texttt{0xb384abef} & \\texttt{vote(uint256,uint256)} & 32\\,k & 28.8\\,Gwei \\\\\n",
            "3 & 6\\,420 \t& \\texttt{0xfc36e15b} & \\texttt{vote(string)} & 32\\,k & 3.2\\,Gwei \\\\\n",
            "4 & 4\\,534 \t& \\texttt{0xddb6e116} & \\texttt{vote(uint16)} & 47\\,k & 3.7\\,Gwei \\\\\n",
            "5 & 2\\,930 \t& \\texttt{0x6cbf9c5e} & \\texttt{commitVote(uint256,bytes32,uint256,uint256)} & 164\\,k & 3.8\\,Gwei \\\\\n",
            "6 & 2\\,624 \t& \\texttt{0x5e8254ea} & \\texttt{commitVoteOnProposal(bytes32,uint8,bytes32)} & 110\\,k & 7.0\\,Gwei \\\\\n",
            "7 & 2\\,161 \t& \\texttt{0x9ef1204c} & \\texttt{vote(bytes32,uint256)} & 151\\,k & 9.6\\,Gwei \\\\\n",
            "8 & 2\\,124 \t& \\texttt{0xcff9293a} & \\texttt{vote(uint32,uint32)} & 51\\,k & 12.1\\,Gwei \\\\\n",
            "9 & 2\\,009 \t& \\texttt{0xb11d8bb8} & \\texttt{revealVote(uint256,uint256,uint256)} & 62\\,k & 3.4\\,Gwei \\\\\n",
            "10 & 1\\,817 \t& \\texttt{0x3850f804} & \\texttt{castVote(uint256,uint256[],uint256,uint256)} & 165\\,k & 48.8\\,Gwei \\\\\n"
          ],
          "name": "stdout"
        }
      ]
    },
    {
      "cell_type": "code",
      "metadata": {
        "id": "fSmsSq86geST",
        "colab": {
          "base_uri": "https://localhost:8080/"
        },
        "outputId": "5292f2d8-1e8d-4e12-f688-23b73c5cea02"
      },
      "source": [
        "job = client.query('SELECT votingContract.address, (SELECT SUM(value) / 1000000000000000000 FROM `bigquery-public-data`.crypto_ethereum.traces WHERE status = 1 AND to_address = votingContract.address and date(block_timestamp) < \\'{1}\\') as received_ether, (SELECT SUM(value) / 1000000000000000000 FROM `bigquery-public-data`.crypto_ethereum.traces WHERE status = 1 AND to_address = votingContract.address and date(block_timestamp) <= \\'{1}\\') - IFNULL((SELECT SUM(value) / 1000000000000000000 FROM `bigquery-public-data`.crypto_ethereum.traces WHERE status = 1 AND from_address = votingContract.address and date(block_timestamp) <= \\'{1}\\'),0) as balance_ether FROM `evotinggasanalysis.{0}.votingContracts` votingContract , bigquery-public-data.crypto_ethereum.balances balances , `evotinggasanalysis.{0}.votingContractMethods` count WHERE 1=1 AND date(votingContract.block_timestamp) <= \\'{1}\\' AND votingContract.address = balances.address AND count.address = votingContract.address AND count.voting_methods > 1 group by  votingContract.address order by balance_ether DESC limit 4 '.format(dataset, maxBlock))\n",
        "result = job.result()\n",
        "result"
      ],
      "execution_count": null,
      "outputs": [
        {
          "output_type": "execute_result",
          "data": {
            "text/plain": [
              "<google.cloud.bigquery.table.RowIterator at 0x7f485dab27b8>"
            ]
          },
          "metadata": {
            "tags": []
          },
          "execution_count": 42
        }
      ]
    },
    {
      "cell_type": "code",
      "metadata": {
        "id": "QLKbaCn2fWVw",
        "colab": {
          "base_uri": "https://localhost:8080/"
        },
        "outputId": "37c30c7e-bd42-4c5f-bdde-5dac1ed6f70e"
      },
      "source": [
        "# file: table_contractsEther.tex\n",
        "i = 1\n",
        "for row in result: # address, received_ether, balance_ether\n",
        "  name = row[0].replace('0x3de0c040705d50d62d1c36bde0ccbad20606515a', 'N/A (Congress Contract)').replace('0xfb6916095ca1df60bb79ce92ce3ea74c37c5d359', 'Unicorn Token (Congress Contract)').replace('0x9fa8fa61a10ff892e4ebceb7f4e0fc684c2ce0a9', 'HONG / hongcoin').replace('0xdbf03b407c01e7cd3cbea99509d93f8dddc8c6fb', 'Dogecoin-Ethereum Bounty')\n",
        "  print(str(i) + ' & ', end='')\n",
        "  print(name + ' & ', end='')\n",
        "  print(f'{int(row[1]):n}'.replace(',', '\\,') + ' & ', end='')\n",
        "  print(f'{int(row[2]):n}'.replace(',', '\\,') + ' (\\\\$ ', end='')\n",
        "  print(f'{int(row[2]*383/1000):n}'.replace(',', '\\,') + '\\\\,k) \\\\\\\\')\n",
        "  print('  & \\\\texttt{' + row[0] + '} \\\\\\\\')\n",
        "\n",
        "  i += 1"
      ],
      "execution_count": null,
      "outputs": [
        {
          "output_type": "stream",
          "text": [
            "1 & N/A (Congress Contract) & 5\\,028 & 5\\,010 (\\$ 1\\,918\\,k) \\\\\n",
            "  & \\texttt{0x3de0c040705d50d62d1c36bde0ccbad20606515a} \\\\\n",
            "2 & Unicorn Token (Congress Contract) & 5\\,891 & 4\\,595 (\\$ 1\\,760\\,k) \\\\\n",
            "  & \\texttt{0xfb6916095ca1df60bb79ce92ce3ea74c37c5d359} \\\\\n",
            "3 & HONG / hongcoin & 3\\,936 & 1\\,003 (\\$ 384\\,k) \\\\\n",
            "  & \\texttt{0x9fa8fa61a10ff892e4ebceb7f4e0fc684c2ce0a9} \\\\\n",
            "4 & Dogecoin-Ethereum Bounty & 6\\,592 & 597 (\\$ 228\\,k) \\\\\n",
            "  & \\texttt{0xdbf03b407c01e7cd3cbea99509d93f8dddc8c6fb} \\\\\n"
          ],
          "name": "stdout"
        }
      ]
    },
    {
      "cell_type": "code",
      "metadata": {
        "id": "rc0GVqPlgrxT",
        "colab": {
          "base_uri": "https://localhost:8080/"
        },
        "outputId": "efe78a91-3664-44f2-f8c1-99b1669d6313"
      },
      "source": [
        "job = client.query('SELECT COUNT(*) FROM ( SELECT votingContract.address, (SELECT CAST(SUM(value) / 1000000000000000000 AS INT64) FROM `bigquery-public-data`.crypto_ethereum.traces WHERE status = 1 AND to_address = votingContract.address and date(block_timestamp) < \\'{1}\\') as received_ether, CAST((SELECT SUM(value) / 1000000000000000000 FROM `bigquery-public-data`.crypto_ethereum.traces WHERE status = 1 AND to_address = votingContract.address and date(block_timestamp) <= \\'{1}\\') - IFNULL((SELECT 0 + SUM(value) / 1000000000000000000 FROM `bigquery-public-data`.crypto_ethereum.traces WHERE status = 1 AND from_address = votingContract.address and date(block_timestamp) <= \\'{1}\\'),0) AS INT64) as balance_ether FROM `evotinggasanalysis.{0}.votingContracts` votingContract , bigquery-public-data.crypto_ethereum.balances balances , `evotinggasanalysis.{0}.votingContractMethods` count WHERE 1=1 AND date(votingContract.block_timestamp) <= \\'{1}\\' AND votingContract.address = balances.address AND count.address = votingContract.address AND count.voting_methods > 1 group by votingContract.address order by received_ether DESC ) '.format(dataset, maxBlock))\n",
        "result = job.result()\n",
        "votingSmartContractsWhichReceivedEther = int(next(iter(result))[0])\n",
        "print('\\\\newcommand{\\\\votingSmartContractsWhichReceivedEther}[0]{$' + f'{votingSmartContractsWhichReceivedEther:n}'.replace(',', '\\\\,') + '$\\\\@\\\\xspace}')"
      ],
      "execution_count": null,
      "outputs": [
        {
          "output_type": "stream",
          "text": [
            "\\newcommand{\\votingSmartContractsWhichReceivedEther}[0]{$3\\,335$\\@\\xspace}\n"
          ],
          "name": "stdout"
        }
      ]
    },
    {
      "cell_type": "code",
      "metadata": {
        "id": "07D_GyQxslM2",
        "colab": {
          "base_uri": "https://localhost:8080/"
        },
        "outputId": "b18c33d6-ada2-4613-9dd5-a08cf658d64a"
      },
      "source": [
        "job = client.query('SELECT *, deposited - withdrawn as balance, ROUND((deposited - withdrawn) * 100 / deposited, 2) as balance_percent FROM ( SELECT ( SELECT CAST(SUM(value) / POW(10, 18) AS INT64) FROM  `bigquery-public-data.crypto_ethereum.traces` txs WHERE 1=1 AND txs.status = 1 AND DATE(txs.block_timestamp) <= \\'{1}\\' AND txs.to_address IN ( SELECT contracts.address FROM `evotinggasanalysis.{0}.votingContracts` contracts, `evotinggasanalysis.{0}.votingContractMethods` methods WHERE contracts.address = methods.address AND methods.voting_methods > 1 ) ) as deposited, ( SELECT CAST(SUM(value) / POW(10, 18) AS INT64) FROM  `bigquery-public-data.crypto_ethereum.traces` txs WHERE 1=1 AND txs.status = 1 AND DATE(txs.block_timestamp) <= \\'{1}\\' AND txs.from_address IN ( SELECT contracts.address FROM `evotinggasanalysis.{0}.votingContracts` contracts, `evotinggasanalysis.{0}.votingContractMethods` methods WHERE contracts.address = methods.address AND methods.voting_methods > 1 ) ) as withdrawn ) '.format(dataset, maxBlock))\n",
        "result = job.result()\n",
        "row = next(iter(result))\n",
        "votingSmartContractsTotalDeposits = int(row[0])\n",
        "votingSmartContractsTotalWithdrawls = int(row[1])\n",
        "votingSmartContractsTotalBalance = int(row[2])\n",
        "votingSmartContractsTotalBalancePercent = float(row[3])\n",
        "print('\\\\newcommand{\\\\votingSmartContractsTotalDeposits}[0]{$' + f'{votingSmartContractsTotalDeposits:n}'.replace(',', '\\\\,') + '$\\\\@\\\\xspace}')\n",
        "print('\\\\newcommand{\\\\votingSmartContractsTotalWithdrawls}[0]{$' + f'{votingSmartContractsTotalWithdrawls:n}'.replace(',', '\\\\,') + '$\\\\@\\\\xspace}')\n",
        "print('\\\\newcommand{\\\\votingSmartContractsTotalBalance}[0]{$' + f'{votingSmartContractsTotalBalance:n}'.replace(',', '\\\\,') + '$\\\\@\\\\xspace}')\n",
        "print('\\\\newcommand{\\\\votingSmartContractsTotalBalancePercent}[0]{$' + f'{votingSmartContractsTotalBalancePercent:.2f}'.replace(',', '\\\\,') + '$\\\\@\\\\xspace}')\n"
      ],
      "execution_count": null,
      "outputs": [
        {
          "output_type": "stream",
          "text": [
            "\\newcommand{\\votingSmartContractsTotalDeposits}[0]{$24\\,723\\,295$\\@\\xspace}\n",
            "\\newcommand{\\votingSmartContractsTotalWithdrawls}[0]{$24\\,711\\,182$\\@\\xspace}\n",
            "\\newcommand{\\votingSmartContractsTotalBalance}[0]{$12\\,113$\\@\\xspace}\n",
            "\\newcommand{\\votingSmartContractsTotalBalancePercent}[0]{$0.05$\\@\\xspace}\n"
          ],
          "name": "stdout"
        }
      ]
    },
    {
      "cell_type": "code",
      "metadata": {
        "id": "4SDyhbvbCkAR",
        "colab": {
          "base_uri": "https://localhost:8080/"
        },
        "outputId": "ac882d4a-bc5d-4575-d2be-b5fd93eb54a8"
      },
      "source": [
        "daoHashes = votingSigns[votingSigns[\"source\"] == \"The DAO\"].hash\n",
        "daoHashesWHERE = ' AND '.join(list(daoHashes.apply(lambda x: '\\'' + x + '\\' IN UNNEST(function_sighashes)').astype('string').values))\n",
        "job = client.query('SELECT COUNT(*) FROM `bigquery-public-data.crypto_ethereum.contracts` WHERE ' + daoHashesWHERE)\n",
        "result = job.result()\n",
        "deployedTheDAOContracts = int(next(iter(result))[0])\n",
        "print('\\\\newcommand{\\\\theDAOContractsDeployments}[0]{$' + f'{deployedTheDAOContracts:n}'.replace(',', '\\\\,') + '$\\\\@\\\\xspace}')\n"
      ],
      "execution_count": null,
      "outputs": [
        {
          "output_type": "stream",
          "text": [
            "\\newcommand{\\theDAOContractsDeployments}[0]{$88$\\@\\xspace}\n"
          ],
          "name": "stdout"
        }
      ]
    },
    {
      "cell_type": "code",
      "metadata": {
        "id": "4WE_IJJ1JpUe",
        "colab": {
          "base_uri": "https://localhost:8080/"
        },
        "outputId": "4c0ea0c5-4755-4fa5-ef03-1489f9902e15"
      },
      "source": [
        "job = client.query('CREATE TEMP FUNCTION MEDIAN(arr ANY TYPE) AS ((SELECT IF(MOD(ARRAY_LENGTH(arr), 2) = 0, (arr[OFFSET(DIV(ARRAY_LENGTH(arr), 2) - 1)] + arr[OFFSET(DIV(ARRAY_LENGTH(arr), 2))]) / 2, arr[OFFSET(DIV(ARRAY_LENGTH(arr), 2))]) FROM (SELECT ARRAY_AGG(x ORDER BY x) AS arr FROM UNNEST(arr) AS x))); SELECT COUNT(*), MEDIAN(ARRAY_AGG(gas)), MEDIAN(ARRAY_AGG(gas_price)) FROM `bigquery-public-data.crypto_ethereum.transactions` WHERE  SUBSTR(input, 0, 10) = \"0xc9d27afe\" AND to_address IN (SELECT address FROM `bigquery-public-data.crypto_ethereum.contracts` WHERE' + daoHashesWHERE + ')')\n",
        "result = job.result()\n",
        "row = next(iter(result))\n",
        "theDAOContractsVotingTransactions = int(row[0])\n",
        "theDAOContractsVotingTransactionsGasMedian = int(row[1])\n",
        "theDAOContractsVotingTransactionsGaspriceMedian = int(row[2])\n",
        "print('\\\\newcommand{\\\\theDAOContractsVotingTransactions}[0]{$' + f'{theDAOContractsVotingTransactions:n}'.replace(',', '\\\\,') + '$\\\\@\\\\xspace}')\n",
        "print('\\\\newcommand{\\\\theDAOContractsVotingTransactionsGasMedian}[0]{$' + f'{theDAOContractsVotingTransactionsGasMedian:n}'.replace(',', '\\\\,') + '$\\\\@\\\\xspace}')\n",
        "print('\\\\newcommand{\\\\theDAOContractsVotingTransactionsGaspriceMedian}[0]{$' + f'{theDAOContractsVotingTransactionsGaspriceMedian:n}'.replace(',', '\\\\,') + '$\\\\@\\\\xspace}')"
      ],
      "execution_count": null,
      "outputs": [
        {
          "output_type": "stream",
          "text": [
            "\\newcommand{\\theDAOContractsVotingTransactions}[0]{$5\\,928$\\@\\xspace}\n",
            "\\newcommand{\\theDAOContractsVotingTransactionsGasMedian}[0]{$150\\,000$\\@\\xspace}\n",
            "\\newcommand{\\theDAOContractsVotingTransactionsGaspriceMedian}[0]{$21\\,000\\,000\\,000$\\@\\xspace}\n"
          ],
          "name": "stdout"
        }
      ]
    }
  ]
}